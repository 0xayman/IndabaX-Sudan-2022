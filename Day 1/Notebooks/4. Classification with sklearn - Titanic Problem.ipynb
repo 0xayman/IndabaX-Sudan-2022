{
 "cells": [
  {
   "cell_type": "markdown",
   "id": "classical-cornwall",
   "metadata": {
    "papermill": {
     "duration": 0.052526,
     "end_time": "2021-06-01T23:13:46.222780",
     "exception": false,
     "start_time": "2021-06-01T23:13:46.170254",
     "status": "completed"
    },
    "tags": []
   },
   "source": []
  },
  {
   "cell_type": "markdown",
   "id": "deadly-methodology",
   "metadata": {
    "papermill": {
     "duration": 0.051891,
     "end_time": "2021-06-01T23:13:46.328628",
     "exception": false,
     "start_time": "2021-06-01T23:13:46.276737",
     "status": "completed"
    },
    "tags": []
   },
   "source": [
    "### Introduction:\n",
    "In This note book we will try to explore the key determinants of survival on Titanic through the following steps:\n",
    "1. Load and cheack the data.\n",
    "2. Feature engineering.\n",
    "3. Explanatory Data analysis.\n",
    "4. Model Training, Validation, and Prediction"
   ]
  },
  {
   "cell_type": "markdown",
   "id": "remarkable-museum",
   "metadata": {
    "papermill": {
     "duration": 0.052276,
     "end_time": "2021-06-01T23:13:46.433038",
     "exception": false,
     "start_time": "2021-06-01T23:13:46.380762",
     "status": "completed"
    },
    "tags": []
   },
   "source": [
    "### 1. Load and Check"
   ]
  },
  {
   "cell_type": "code",
   "execution_count": 1,
   "id": "covered-wallace",
   "metadata": {
    "execution": {
     "iopub.execute_input": "2021-06-01T23:13:46.544180Z",
     "iopub.status.busy": "2021-06-01T23:13:46.542391Z",
     "iopub.status.idle": "2021-06-01T23:13:47.504424Z",
     "shell.execute_reply": "2021-06-01T23:13:47.503714Z"
    },
    "papermill": {
     "duration": 1.018853,
     "end_time": "2021-06-01T23:13:47.504628",
     "exception": false,
     "start_time": "2021-06-01T23:13:46.485775",
     "status": "completed"
    },
    "tags": []
   },
   "outputs": [],
   "source": [
    "# importing the required liberaries\n",
    "import numpy as np # linear algebra\n",
    "import pandas as pd # data processing, CSV file I/O (e.g. pd.read_csv)\n",
    "import matplotlib.pyplot as plt\n",
    "import seaborn as sns\n",
    "from scipy import stats\n",
    "import random as rnd"
   ]
  },
  {
   "cell_type": "code",
   "execution_count": 2,
   "id": "comparative-investigation",
   "metadata": {
    "execution": {
     "iopub.execute_input": "2021-06-01T23:13:47.617250Z",
     "iopub.status.busy": "2021-06-01T23:13:47.616525Z",
     "iopub.status.idle": "2021-06-01T23:13:47.649096Z",
     "shell.execute_reply": "2021-06-01T23:13:47.649669Z"
    },
    "papermill": {
     "duration": 0.092075,
     "end_time": "2021-06-01T23:13:47.649850",
     "exception": false,
     "start_time": "2021-06-01T23:13:47.557775",
     "status": "completed"
    },
    "tags": []
   },
   "outputs": [],
   "source": [
    "# Load The Data\n",
    "df_train = pd.read_csv(\"../input/titanic/train.csv\")\n",
    "df_test = pd.read_csv(\"../input/titanic/test.csv\")"
   ]
  },
  {
   "cell_type": "markdown",
   "id": "fallen-frederick",
   "metadata": {
    "papermill": {
     "duration": 0.051962,
     "end_time": "2021-06-01T23:13:47.754945",
     "exception": false,
     "start_time": "2021-06-01T23:13:47.702983",
     "status": "completed"
    },
    "tags": []
   },
   "source": [
    "As you can see the provided data is splitted into two parts: training and test data. We will combine them together so that any feature engineering applies to both of them at once. After completing our explanatory data analysis and start model training, we will split them again."
   ]
  },
  {
   "cell_type": "code",
   "execution_count": 3,
   "id": "wrapped-cologne",
   "metadata": {
    "execution": {
     "iopub.execute_input": "2021-06-01T23:13:47.862785Z",
     "iopub.status.busy": "2021-06-01T23:13:47.862109Z",
     "iopub.status.idle": "2021-06-01T23:13:47.898978Z",
     "shell.execute_reply": "2021-06-01T23:13:47.899474Z"
    },
    "papermill": {
     "duration": 0.092345,
     "end_time": "2021-06-01T23:13:47.899660",
     "exception": false,
     "start_time": "2021-06-01T23:13:47.807315",
     "status": "completed"
    },
    "tags": []
   },
   "outputs": [
    {
     "data": {
      "text/html": [
       "<div>\n",
       "<style scoped>\n",
       "    .dataframe tbody tr th:only-of-type {\n",
       "        vertical-align: middle;\n",
       "    }\n",
       "\n",
       "    .dataframe tbody tr th {\n",
       "        vertical-align: top;\n",
       "    }\n",
       "\n",
       "    .dataframe thead th {\n",
       "        text-align: right;\n",
       "    }\n",
       "</style>\n",
       "<table border=\"1\" class=\"dataframe\">\n",
       "  <thead>\n",
       "    <tr style=\"text-align: right;\">\n",
       "      <th></th>\n",
       "      <th>PassengerId</th>\n",
       "      <th>Survived</th>\n",
       "      <th>Pclass</th>\n",
       "      <th>Name</th>\n",
       "      <th>Sex</th>\n",
       "      <th>Age</th>\n",
       "      <th>SibSp</th>\n",
       "      <th>Parch</th>\n",
       "      <th>Ticket</th>\n",
       "      <th>Fare</th>\n",
       "      <th>Cabin</th>\n",
       "      <th>Embarked</th>\n",
       "    </tr>\n",
       "  </thead>\n",
       "  <tbody>\n",
       "    <tr>\n",
       "      <th>886</th>\n",
       "      <td>887</td>\n",
       "      <td>0</td>\n",
       "      <td>2</td>\n",
       "      <td>Montvila, Rev. Juozas</td>\n",
       "      <td>male</td>\n",
       "      <td>27.0</td>\n",
       "      <td>0</td>\n",
       "      <td>0</td>\n",
       "      <td>211536</td>\n",
       "      <td>13.00</td>\n",
       "      <td>NaN</td>\n",
       "      <td>S</td>\n",
       "    </tr>\n",
       "    <tr>\n",
       "      <th>887</th>\n",
       "      <td>888</td>\n",
       "      <td>1</td>\n",
       "      <td>1</td>\n",
       "      <td>Graham, Miss. Margaret Edith</td>\n",
       "      <td>female</td>\n",
       "      <td>19.0</td>\n",
       "      <td>0</td>\n",
       "      <td>0</td>\n",
       "      <td>112053</td>\n",
       "      <td>30.00</td>\n",
       "      <td>B42</td>\n",
       "      <td>S</td>\n",
       "    </tr>\n",
       "    <tr>\n",
       "      <th>888</th>\n",
       "      <td>889</td>\n",
       "      <td>0</td>\n",
       "      <td>3</td>\n",
       "      <td>Johnston, Miss. Catherine Helen \"Carrie\"</td>\n",
       "      <td>female</td>\n",
       "      <td>NaN</td>\n",
       "      <td>1</td>\n",
       "      <td>2</td>\n",
       "      <td>W./C. 6607</td>\n",
       "      <td>23.45</td>\n",
       "      <td>NaN</td>\n",
       "      <td>S</td>\n",
       "    </tr>\n",
       "    <tr>\n",
       "      <th>889</th>\n",
       "      <td>890</td>\n",
       "      <td>1</td>\n",
       "      <td>1</td>\n",
       "      <td>Behr, Mr. Karl Howell</td>\n",
       "      <td>male</td>\n",
       "      <td>26.0</td>\n",
       "      <td>0</td>\n",
       "      <td>0</td>\n",
       "      <td>111369</td>\n",
       "      <td>30.00</td>\n",
       "      <td>C148</td>\n",
       "      <td>C</td>\n",
       "    </tr>\n",
       "    <tr>\n",
       "      <th>890</th>\n",
       "      <td>891</td>\n",
       "      <td>0</td>\n",
       "      <td>3</td>\n",
       "      <td>Dooley, Mr. Patrick</td>\n",
       "      <td>male</td>\n",
       "      <td>32.0</td>\n",
       "      <td>0</td>\n",
       "      <td>0</td>\n",
       "      <td>370376</td>\n",
       "      <td>7.75</td>\n",
       "      <td>NaN</td>\n",
       "      <td>Q</td>\n",
       "    </tr>\n",
       "  </tbody>\n",
       "</table>\n",
       "</div>"
      ],
      "text/plain": [
       "     PassengerId  Survived  Pclass                                      Name  \\\n",
       "886          887         0       2                     Montvila, Rev. Juozas   \n",
       "887          888         1       1              Graham, Miss. Margaret Edith   \n",
       "888          889         0       3  Johnston, Miss. Catherine Helen \"Carrie\"   \n",
       "889          890         1       1                     Behr, Mr. Karl Howell   \n",
       "890          891         0       3                       Dooley, Mr. Patrick   \n",
       "\n",
       "        Sex   Age  SibSp  Parch      Ticket   Fare Cabin Embarked  \n",
       "886    male  27.0      0      0      211536  13.00   NaN        S  \n",
       "887  female  19.0      0      0      112053  30.00   B42        S  \n",
       "888  female   NaN      1      2  W./C. 6607  23.45   NaN        S  \n",
       "889    male  26.0      0      0      111369  30.00  C148        C  \n",
       "890    male  32.0      0      0      370376   7.75   NaN        Q  "
      ]
     },
     "execution_count": 3,
     "metadata": {},
     "output_type": "execute_result"
    }
   ],
   "source": [
    "df_train.tail()"
   ]
  },
  {
   "cell_type": "code",
   "execution_count": 4,
   "id": "ready-chuck",
   "metadata": {
    "execution": {
     "iopub.execute_input": "2021-06-01T23:13:48.008802Z",
     "iopub.status.busy": "2021-06-01T23:13:48.008147Z",
     "iopub.status.idle": "2021-06-01T23:13:48.023699Z",
     "shell.execute_reply": "2021-06-01T23:13:48.024169Z"
    },
    "papermill": {
     "duration": 0.071441,
     "end_time": "2021-06-01T23:13:48.024362",
     "exception": false,
     "start_time": "2021-06-01T23:13:47.952921",
     "status": "completed"
    },
    "tags": []
   },
   "outputs": [
    {
     "data": {
      "text/html": [
       "<div>\n",
       "<style scoped>\n",
       "    .dataframe tbody tr th:only-of-type {\n",
       "        vertical-align: middle;\n",
       "    }\n",
       "\n",
       "    .dataframe tbody tr th {\n",
       "        vertical-align: top;\n",
       "    }\n",
       "\n",
       "    .dataframe thead th {\n",
       "        text-align: right;\n",
       "    }\n",
       "</style>\n",
       "<table border=\"1\" class=\"dataframe\">\n",
       "  <thead>\n",
       "    <tr style=\"text-align: right;\">\n",
       "      <th></th>\n",
       "      <th>PassengerId</th>\n",
       "      <th>Pclass</th>\n",
       "      <th>Name</th>\n",
       "      <th>Sex</th>\n",
       "      <th>Age</th>\n",
       "      <th>SibSp</th>\n",
       "      <th>Parch</th>\n",
       "      <th>Ticket</th>\n",
       "      <th>Fare</th>\n",
       "      <th>Cabin</th>\n",
       "      <th>Embarked</th>\n",
       "    </tr>\n",
       "  </thead>\n",
       "  <tbody>\n",
       "    <tr>\n",
       "      <th>0</th>\n",
       "      <td>892</td>\n",
       "      <td>3</td>\n",
       "      <td>Kelly, Mr. James</td>\n",
       "      <td>male</td>\n",
       "      <td>34.5</td>\n",
       "      <td>0</td>\n",
       "      <td>0</td>\n",
       "      <td>330911</td>\n",
       "      <td>7.8292</td>\n",
       "      <td>NaN</td>\n",
       "      <td>Q</td>\n",
       "    </tr>\n",
       "    <tr>\n",
       "      <th>1</th>\n",
       "      <td>893</td>\n",
       "      <td>3</td>\n",
       "      <td>Wilkes, Mrs. James (Ellen Needs)</td>\n",
       "      <td>female</td>\n",
       "      <td>47.0</td>\n",
       "      <td>1</td>\n",
       "      <td>0</td>\n",
       "      <td>363272</td>\n",
       "      <td>7.0000</td>\n",
       "      <td>NaN</td>\n",
       "      <td>S</td>\n",
       "    </tr>\n",
       "    <tr>\n",
       "      <th>2</th>\n",
       "      <td>894</td>\n",
       "      <td>2</td>\n",
       "      <td>Myles, Mr. Thomas Francis</td>\n",
       "      <td>male</td>\n",
       "      <td>62.0</td>\n",
       "      <td>0</td>\n",
       "      <td>0</td>\n",
       "      <td>240276</td>\n",
       "      <td>9.6875</td>\n",
       "      <td>NaN</td>\n",
       "      <td>Q</td>\n",
       "    </tr>\n",
       "    <tr>\n",
       "      <th>3</th>\n",
       "      <td>895</td>\n",
       "      <td>3</td>\n",
       "      <td>Wirz, Mr. Albert</td>\n",
       "      <td>male</td>\n",
       "      <td>27.0</td>\n",
       "      <td>0</td>\n",
       "      <td>0</td>\n",
       "      <td>315154</td>\n",
       "      <td>8.6625</td>\n",
       "      <td>NaN</td>\n",
       "      <td>S</td>\n",
       "    </tr>\n",
       "    <tr>\n",
       "      <th>4</th>\n",
       "      <td>896</td>\n",
       "      <td>3</td>\n",
       "      <td>Hirvonen, Mrs. Alexander (Helga E Lindqvist)</td>\n",
       "      <td>female</td>\n",
       "      <td>22.0</td>\n",
       "      <td>1</td>\n",
       "      <td>1</td>\n",
       "      <td>3101298</td>\n",
       "      <td>12.2875</td>\n",
       "      <td>NaN</td>\n",
       "      <td>S</td>\n",
       "    </tr>\n",
       "  </tbody>\n",
       "</table>\n",
       "</div>"
      ],
      "text/plain": [
       "   PassengerId  Pclass                                          Name     Sex  \\\n",
       "0          892       3                              Kelly, Mr. James    male   \n",
       "1          893       3              Wilkes, Mrs. James (Ellen Needs)  female   \n",
       "2          894       2                     Myles, Mr. Thomas Francis    male   \n",
       "3          895       3                              Wirz, Mr. Albert    male   \n",
       "4          896       3  Hirvonen, Mrs. Alexander (Helga E Lindqvist)  female   \n",
       "\n",
       "    Age  SibSp  Parch   Ticket     Fare Cabin Embarked  \n",
       "0  34.5      0      0   330911   7.8292   NaN        Q  \n",
       "1  47.0      1      0   363272   7.0000   NaN        S  \n",
       "2  62.0      0      0   240276   9.6875   NaN        Q  \n",
       "3  27.0      0      0   315154   8.6625   NaN        S  \n",
       "4  22.0      1      1  3101298  12.2875   NaN        S  "
      ]
     },
     "execution_count": 4,
     "metadata": {},
     "output_type": "execute_result"
    }
   ],
   "source": [
    "df_test.head()"
   ]
  },
  {
   "cell_type": "code",
   "execution_count": 5,
   "id": "needed-happening",
   "metadata": {
    "execution": {
     "iopub.execute_input": "2021-06-01T23:13:48.134851Z",
     "iopub.status.busy": "2021-06-01T23:13:48.134050Z",
     "iopub.status.idle": "2021-06-01T23:13:48.137648Z",
     "shell.execute_reply": "2021-06-01T23:13:48.138112Z"
    },
    "papermill": {
     "duration": 0.060794,
     "end_time": "2021-06-01T23:13:48.138286",
     "exception": false,
     "start_time": "2021-06-01T23:13:48.077492",
     "status": "completed"
    },
    "tags": []
   },
   "outputs": [],
   "source": [
    "dfs = [df_train, df_test] # to apply any change to both data frames"
   ]
  },
  {
   "cell_type": "code",
   "execution_count": 6,
   "id": "pleasant-thumbnail",
   "metadata": {
    "execution": {
     "iopub.execute_input": "2021-06-01T23:13:48.248051Z",
     "iopub.status.busy": "2021-06-01T23:13:48.247353Z",
     "iopub.status.idle": "2021-06-01T23:13:48.267226Z",
     "shell.execute_reply": "2021-06-01T23:13:48.267993Z"
    },
    "papermill": {
     "duration": 0.076676,
     "end_time": "2021-06-01T23:13:48.268226",
     "exception": false,
     "start_time": "2021-06-01T23:13:48.191550",
     "status": "completed"
    },
    "tags": []
   },
   "outputs": [
    {
     "name": "stdout",
     "output_type": "stream",
     "text": [
      "<class 'pandas.core.frame.DataFrame'>\n",
      "RangeIndex: 891 entries, 0 to 890\n",
      "Data columns (total 12 columns):\n",
      " #   Column       Non-Null Count  Dtype  \n",
      "---  ------       --------------  -----  \n",
      " 0   PassengerId  891 non-null    int64  \n",
      " 1   Survived     891 non-null    int64  \n",
      " 2   Pclass       891 non-null    int64  \n",
      " 3   Name         891 non-null    object \n",
      " 4   Sex          891 non-null    object \n",
      " 5   Age          714 non-null    float64\n",
      " 6   SibSp        891 non-null    int64  \n",
      " 7   Parch        891 non-null    int64  \n",
      " 8   Ticket       891 non-null    object \n",
      " 9   Fare         891 non-null    float64\n",
      " 10  Cabin        204 non-null    object \n",
      " 11  Embarked     889 non-null    object \n",
      "dtypes: float64(2), int64(5), object(5)\n",
      "memory usage: 83.7+ KB\n"
     ]
    }
   ],
   "source": [
    "df_train.info()"
   ]
  },
  {
   "cell_type": "code",
   "execution_count": 7,
   "id": "sapphire-alaska",
   "metadata": {
    "execution": {
     "iopub.execute_input": "2021-06-01T23:13:48.394018Z",
     "iopub.status.busy": "2021-06-01T23:13:48.393155Z",
     "iopub.status.idle": "2021-06-01T23:13:48.396271Z",
     "shell.execute_reply": "2021-06-01T23:13:48.396790Z"
    },
    "papermill": {
     "duration": 0.073705,
     "end_time": "2021-06-01T23:13:48.396972",
     "exception": false,
     "start_time": "2021-06-01T23:13:48.323267",
     "status": "completed"
    },
    "tags": []
   },
   "outputs": [
    {
     "name": "stdout",
     "output_type": "stream",
     "text": [
      "<class 'pandas.core.frame.DataFrame'>\n",
      "RangeIndex: 418 entries, 0 to 417\n",
      "Data columns (total 11 columns):\n",
      " #   Column       Non-Null Count  Dtype  \n",
      "---  ------       --------------  -----  \n",
      " 0   PassengerId  418 non-null    int64  \n",
      " 1   Pclass       418 non-null    int64  \n",
      " 2   Name         418 non-null    object \n",
      " 3   Sex          418 non-null    object \n",
      " 4   Age          332 non-null    float64\n",
      " 5   SibSp        418 non-null    int64  \n",
      " 6   Parch        418 non-null    int64  \n",
      " 7   Ticket       418 non-null    object \n",
      " 8   Fare         417 non-null    float64\n",
      " 9   Cabin        91 non-null     object \n",
      " 10  Embarked     418 non-null    object \n",
      "dtypes: float64(2), int64(4), object(5)\n",
      "memory usage: 36.0+ KB\n"
     ]
    }
   ],
   "source": [
    "df_test.info()"
   ]
  },
  {
   "cell_type": "markdown",
   "id": "careful-venture",
   "metadata": {
    "papermill": {
     "duration": 0.055763,
     "end_time": "2021-06-01T23:13:48.506941",
     "exception": false,
     "start_time": "2021-06-01T23:13:48.451178",
     "status": "completed"
    },
    "tags": []
   },
   "source": [
    "The general information about the dataframe points out to several problems:\n",
    "1. PassengerId is stored as Integer, where in fact it has no numeric meaning. So, it should be converted to an Object.\n",
    "2. Categorical variables such as Sex and Embarked should be Integer not Float. But we will convert it latter before training using pd.get_dummies().\n",
    "3. Age, Fare, Cabin, and Embarked have missing values.\n",
    "4. The Name needs to be splitted into Title and Name\n",
    "5. SibSp and Parch should to be combined into 1 variable (number of family members)"
   ]
  },
  {
   "cell_type": "markdown",
   "id": "sophisticated-dependence",
   "metadata": {
    "papermill": {
     "duration": 0.054507,
     "end_time": "2021-06-01T23:13:48.615440",
     "exception": false,
     "start_time": "2021-06-01T23:13:48.560933",
     "status": "completed"
    },
    "tags": []
   },
   "source": [
    "### 2. Feature Engineering"
   ]
  },
  {
   "cell_type": "code",
   "execution_count": 8,
   "id": "fossil-reasoning",
   "metadata": {
    "execution": {
     "iopub.execute_input": "2021-06-01T23:13:48.730995Z",
     "iopub.status.busy": "2021-06-01T23:13:48.729865Z",
     "iopub.status.idle": "2021-06-01T23:13:48.732696Z",
     "shell.execute_reply": "2021-06-01T23:13:48.733158Z"
    },
    "papermill": {
     "duration": 0.064029,
     "end_time": "2021-06-01T23:13:48.733350",
     "exception": false,
     "start_time": "2021-06-01T23:13:48.669321",
     "status": "completed"
    },
    "tags": []
   },
   "outputs": [],
   "source": [
    "# Convering PassengerId to an object\n",
    "for df in dfs:\n",
    "    df[\"PassengerId\"] = df[\"PassengerId\"].astype(\"object\")"
   ]
  },
  {
   "cell_type": "code",
   "execution_count": 9,
   "id": "touched-luther",
   "metadata": {
    "execution": {
     "iopub.execute_input": "2021-06-01T23:13:48.851017Z",
     "iopub.status.busy": "2021-06-01T23:13:48.849991Z",
     "iopub.status.idle": "2021-06-01T23:13:48.886705Z",
     "shell.execute_reply": "2021-06-01T23:13:48.886078Z"
    },
    "papermill": {
     "duration": 0.098726,
     "end_time": "2021-06-01T23:13:48.886861",
     "exception": false,
     "start_time": "2021-06-01T23:13:48.788135",
     "status": "completed"
    },
    "tags": []
   },
   "outputs": [
    {
     "data": {
      "text/html": [
       "<div>\n",
       "<style scoped>\n",
       "    .dataframe tbody tr th:only-of-type {\n",
       "        vertical-align: middle;\n",
       "    }\n",
       "\n",
       "    .dataframe tbody tr th {\n",
       "        vertical-align: top;\n",
       "    }\n",
       "\n",
       "    .dataframe thead th {\n",
       "        text-align: right;\n",
       "    }\n",
       "</style>\n",
       "<table border=\"1\" class=\"dataframe\">\n",
       "  <thead>\n",
       "    <tr style=\"text-align: right;\">\n",
       "      <th></th>\n",
       "      <th>Missing (count)</th>\n",
       "      <th>Missing (%)</th>\n",
       "    </tr>\n",
       "  </thead>\n",
       "  <tbody>\n",
       "    <tr>\n",
       "      <th>PassengerId</th>\n",
       "      <td>0</td>\n",
       "      <td>0.0</td>\n",
       "    </tr>\n",
       "    <tr>\n",
       "      <th>Survived</th>\n",
       "      <td>0</td>\n",
       "      <td>0.0</td>\n",
       "    </tr>\n",
       "    <tr>\n",
       "      <th>Pclass</th>\n",
       "      <td>0</td>\n",
       "      <td>0.0</td>\n",
       "    </tr>\n",
       "    <tr>\n",
       "      <th>Name</th>\n",
       "      <td>0</td>\n",
       "      <td>0.0</td>\n",
       "    </tr>\n",
       "    <tr>\n",
       "      <th>Sex</th>\n",
       "      <td>0</td>\n",
       "      <td>0.0</td>\n",
       "    </tr>\n",
       "    <tr>\n",
       "      <th>Age</th>\n",
       "      <td>177</td>\n",
       "      <td>19.9</td>\n",
       "    </tr>\n",
       "    <tr>\n",
       "      <th>SibSp</th>\n",
       "      <td>0</td>\n",
       "      <td>0.0</td>\n",
       "    </tr>\n",
       "    <tr>\n",
       "      <th>Parch</th>\n",
       "      <td>0</td>\n",
       "      <td>0.0</td>\n",
       "    </tr>\n",
       "    <tr>\n",
       "      <th>Ticket</th>\n",
       "      <td>0</td>\n",
       "      <td>0.0</td>\n",
       "    </tr>\n",
       "    <tr>\n",
       "      <th>Fare</th>\n",
       "      <td>0</td>\n",
       "      <td>0.0</td>\n",
       "    </tr>\n",
       "    <tr>\n",
       "      <th>Cabin</th>\n",
       "      <td>687</td>\n",
       "      <td>77.1</td>\n",
       "    </tr>\n",
       "    <tr>\n",
       "      <th>Embarked</th>\n",
       "      <td>2</td>\n",
       "      <td>0.2</td>\n",
       "    </tr>\n",
       "  </tbody>\n",
       "</table>\n",
       "</div>"
      ],
      "text/plain": [
       "             Missing (count)  Missing (%)\n",
       "PassengerId                0          0.0\n",
       "Survived                   0          0.0\n",
       "Pclass                     0          0.0\n",
       "Name                       0          0.0\n",
       "Sex                        0          0.0\n",
       "Age                      177         19.9\n",
       "SibSp                      0          0.0\n",
       "Parch                      0          0.0\n",
       "Ticket                     0          0.0\n",
       "Fare                       0          0.0\n",
       "Cabin                    687         77.1\n",
       "Embarked                   2          0.2"
      ]
     },
     "execution_count": 9,
     "metadata": {},
     "output_type": "execute_result"
    }
   ],
   "source": [
    "# How many missing points in each variable\n",
    "count_missing_train = df_train.isnull().sum()\n",
    "percent_missing_train = round(df_train.isnull().sum()/len(df_train) * 100, 1)\n",
    "missing_train = pd.concat([count_missing_train, percent_missing_train], axis = 1)\n",
    "missing_train.columns = [\"Missing (count)\", \"Missing (%)\"]\n",
    "missing_train"
   ]
  },
  {
   "cell_type": "code",
   "execution_count": 10,
   "id": "infrared-antenna",
   "metadata": {
    "execution": {
     "iopub.execute_input": "2021-06-01T23:13:49.003582Z",
     "iopub.status.busy": "2021-06-01T23:13:49.002443Z",
     "iopub.status.idle": "2021-06-01T23:13:49.021976Z",
     "shell.execute_reply": "2021-06-01T23:13:49.021359Z"
    },
    "papermill": {
     "duration": 0.080258,
     "end_time": "2021-06-01T23:13:49.022121",
     "exception": false,
     "start_time": "2021-06-01T23:13:48.941863",
     "status": "completed"
    },
    "tags": []
   },
   "outputs": [
    {
     "data": {
      "text/html": [
       "<div>\n",
       "<style scoped>\n",
       "    .dataframe tbody tr th:only-of-type {\n",
       "        vertical-align: middle;\n",
       "    }\n",
       "\n",
       "    .dataframe tbody tr th {\n",
       "        vertical-align: top;\n",
       "    }\n",
       "\n",
       "    .dataframe thead th {\n",
       "        text-align: right;\n",
       "    }\n",
       "</style>\n",
       "<table border=\"1\" class=\"dataframe\">\n",
       "  <thead>\n",
       "    <tr style=\"text-align: right;\">\n",
       "      <th></th>\n",
       "      <th>Missing (count)</th>\n",
       "      <th>Missing (%)</th>\n",
       "    </tr>\n",
       "  </thead>\n",
       "  <tbody>\n",
       "    <tr>\n",
       "      <th>PassengerId</th>\n",
       "      <td>0</td>\n",
       "      <td>0.0</td>\n",
       "    </tr>\n",
       "    <tr>\n",
       "      <th>Pclass</th>\n",
       "      <td>0</td>\n",
       "      <td>0.0</td>\n",
       "    </tr>\n",
       "    <tr>\n",
       "      <th>Name</th>\n",
       "      <td>0</td>\n",
       "      <td>0.0</td>\n",
       "    </tr>\n",
       "    <tr>\n",
       "      <th>Sex</th>\n",
       "      <td>0</td>\n",
       "      <td>0.0</td>\n",
       "    </tr>\n",
       "    <tr>\n",
       "      <th>Age</th>\n",
       "      <td>86</td>\n",
       "      <td>20.6</td>\n",
       "    </tr>\n",
       "    <tr>\n",
       "      <th>SibSp</th>\n",
       "      <td>0</td>\n",
       "      <td>0.0</td>\n",
       "    </tr>\n",
       "    <tr>\n",
       "      <th>Parch</th>\n",
       "      <td>0</td>\n",
       "      <td>0.0</td>\n",
       "    </tr>\n",
       "    <tr>\n",
       "      <th>Ticket</th>\n",
       "      <td>0</td>\n",
       "      <td>0.0</td>\n",
       "    </tr>\n",
       "    <tr>\n",
       "      <th>Fare</th>\n",
       "      <td>1</td>\n",
       "      <td>0.2</td>\n",
       "    </tr>\n",
       "    <tr>\n",
       "      <th>Cabin</th>\n",
       "      <td>327</td>\n",
       "      <td>78.2</td>\n",
       "    </tr>\n",
       "    <tr>\n",
       "      <th>Embarked</th>\n",
       "      <td>0</td>\n",
       "      <td>0.0</td>\n",
       "    </tr>\n",
       "  </tbody>\n",
       "</table>\n",
       "</div>"
      ],
      "text/plain": [
       "             Missing (count)  Missing (%)\n",
       "PassengerId                0          0.0\n",
       "Pclass                     0          0.0\n",
       "Name                       0          0.0\n",
       "Sex                        0          0.0\n",
       "Age                       86         20.6\n",
       "SibSp                      0          0.0\n",
       "Parch                      0          0.0\n",
       "Ticket                     0          0.0\n",
       "Fare                       1          0.2\n",
       "Cabin                    327         78.2\n",
       "Embarked                   0          0.0"
      ]
     },
     "execution_count": 10,
     "metadata": {},
     "output_type": "execute_result"
    }
   ],
   "source": [
    "# How many missing points in each variable\n",
    "count_missing_test = df_test.isnull().sum()\n",
    "percent_missing_test = round(df_test.isnull().sum()/len(df_test) * 100, 1)\n",
    "missing_test = pd.concat([count_missing_test, percent_missing_test], axis = 1)\n",
    "missing_test.columns = [\"Missing (count)\", \"Missing (%)\"]\n",
    "missing_test"
   ]
  },
  {
   "cell_type": "markdown",
   "id": "soviet-orleans",
   "metadata": {
    "papermill": {
     "duration": 0.058149,
     "end_time": "2021-06-01T23:13:49.137364",
     "exception": false,
     "start_time": "2021-06-01T23:13:49.079215",
     "status": "completed"
    },
    "tags": []
   },
   "source": [
    "### How to deal with Missing Data?\n",
    "There are many strategies to fill missing data:\n",
    "1. Fill with the mean (better used in case of continous variables without outliers)\n",
    "2. Fill with the median (better used in case of continous variables with outliers)\n",
    "3. Fill with the mode (better used in case of categorical variables)\n",
    "4. Drop the entire variable if the number of missing points is too large\n",
    "\n",
    "Based on the above strategies:\n",
    "1. Embarked: has just 2 missing values, se we will fill them with the mode (the most frequent data point)\n",
    "2. Cabin: 77.1 percent of its values are missing, we will drop it entirly.\n",
    "3. Age: Just 20 percent if the values are missing, we will fill these values with the mean of age given the values of other feature such as Sex, Ticket... etc.\n",
    "4. In Test Data, Fill Fare with the mode. "
   ]
  },
  {
   "cell_type": "code",
   "execution_count": 11,
   "id": "electronic-preserve",
   "metadata": {
    "execution": {
     "iopub.execute_input": "2021-06-01T23:13:49.254460Z",
     "iopub.status.busy": "2021-06-01T23:13:49.253435Z",
     "iopub.status.idle": "2021-06-01T23:13:49.259537Z",
     "shell.execute_reply": "2021-06-01T23:13:49.260020Z"
    },
    "papermill": {
     "duration": 0.066834,
     "end_time": "2021-06-01T23:13:49.260209",
     "exception": false,
     "start_time": "2021-06-01T23:13:49.193375",
     "status": "completed"
    },
    "tags": []
   },
   "outputs": [
    {
     "data": {
      "text/plain": [
       "Index(['PassengerId', 'Survived', 'Pclass', 'Name', 'Sex', 'Age', 'SibSp',\n",
       "       'Parch', 'Ticket', 'Fare', 'Cabin', 'Embarked'],\n",
       "      dtype='object')"
      ]
     },
     "execution_count": 11,
     "metadata": {},
     "output_type": "execute_result"
    }
   ],
   "source": [
    "df_train.columns"
   ]
  },
  {
   "cell_type": "code",
   "execution_count": 12,
   "id": "transparent-injury",
   "metadata": {
    "execution": {
     "iopub.execute_input": "2021-06-01T23:13:49.376180Z",
     "iopub.status.busy": "2021-06-01T23:13:49.375153Z",
     "iopub.status.idle": "2021-06-01T23:13:49.382572Z",
     "shell.execute_reply": "2021-06-01T23:13:49.383099Z"
    },
    "papermill": {
     "duration": 0.066788,
     "end_time": "2021-06-01T23:13:49.383299",
     "exception": false,
     "start_time": "2021-06-01T23:13:49.316511",
     "status": "completed"
    },
    "tags": []
   },
   "outputs": [],
   "source": [
    "# Fill Embarked and Fare Variables \n",
    "df_train[\"Embarked\"] = df_train[\"Embarked\"].fillna(df_train[\"Embarked\"].mode()[0])\n",
    "df_test[\"Fare\"] = df_test[\"Fare\"].fillna(df_test[\"Fare\"].median())"
   ]
  },
  {
   "cell_type": "code",
   "execution_count": 13,
   "id": "political-usage",
   "metadata": {
    "execution": {
     "iopub.execute_input": "2021-06-01T23:13:49.516057Z",
     "iopub.status.busy": "2021-06-01T23:13:49.514969Z",
     "iopub.status.idle": "2021-06-01T23:13:49.526040Z",
     "shell.execute_reply": "2021-06-01T23:13:49.525302Z"
    },
    "papermill": {
     "duration": 0.085835,
     "end_time": "2021-06-01T23:13:49.526215",
     "exception": false,
     "start_time": "2021-06-01T23:13:49.440380",
     "status": "completed"
    },
    "tags": []
   },
   "outputs": [],
   "source": [
    "#  Drop Cabin\n",
    "df_train = df_train.drop(\"Cabin\", axis = 1)\n",
    "df_test = df_test.drop(\"Cabin\", axis = 1)"
   ]
  },
  {
   "cell_type": "code",
   "execution_count": 14,
   "id": "limiting-december",
   "metadata": {
    "execution": {
     "iopub.execute_input": "2021-06-01T23:13:49.664796Z",
     "iopub.status.busy": "2021-06-01T23:13:49.659857Z",
     "iopub.status.idle": "2021-06-01T23:13:49.700798Z",
     "shell.execute_reply": "2021-06-01T23:13:49.700215Z"
    },
    "papermill": {
     "duration": 0.107839,
     "end_time": "2021-06-01T23:13:49.700954",
     "exception": false,
     "start_time": "2021-06-01T23:13:49.593115",
     "status": "completed"
    },
    "tags": []
   },
   "outputs": [],
   "source": [
    "# fill Age. We will iterate over Sex (0 or 1) and Pclass (1, 2, 3) to calculate guessed values of Age for the six combinations.\n",
    "guess_ages = np.zeros((2,3))\n",
    "dfs = [df_train, df_test]\n",
    "for df in dfs:\n",
    "    df[\"Sex\"] = df[\"Sex\"].map({\"male\":1, \"female\":0}) #Do not Run This Cell Twice \n",
    "    for i in range(0, 2):\n",
    "        for j in range(0,3):\n",
    "            guess_df = df[(df[\"Sex\"] == i)&(df[\"Pclass\"] == j+1)][\"Age\"].dropna()\n",
    "            \n",
    "            age_guess = guess_df.mean()\n",
    "            guess_ages[i,j] = int(age_guess/0.5 + 0.5 ) * 0.5\n",
    "            \n",
    "    for i in range(0, 2):\n",
    "        for j in range(0,3):\n",
    "            df.loc[ (df.Age.isnull()) & (df.Sex == i) & (df.Pclass == j+1),'Age'] = guess_ages[i,j]            \n",
    "    \n",
    "    df.Age = df.Age.astype(int)"
   ]
  },
  {
   "cell_type": "code",
   "execution_count": 15,
   "id": "democratic-series",
   "metadata": {
    "execution": {
     "iopub.execute_input": "2021-06-01T23:13:49.826793Z",
     "iopub.status.busy": "2021-06-01T23:13:49.826112Z",
     "iopub.status.idle": "2021-06-01T23:13:49.835803Z",
     "shell.execute_reply": "2021-06-01T23:13:49.836379Z"
    },
    "papermill": {
     "duration": 0.079419,
     "end_time": "2021-06-01T23:13:49.836565",
     "exception": false,
     "start_time": "2021-06-01T23:13:49.757146",
     "status": "completed"
    },
    "tags": []
   },
   "outputs": [
    {
     "data": {
      "text/html": [
       "<div>\n",
       "<style scoped>\n",
       "    .dataframe tbody tr th:only-of-type {\n",
       "        vertical-align: middle;\n",
       "    }\n",
       "\n",
       "    .dataframe tbody tr th {\n",
       "        vertical-align: top;\n",
       "    }\n",
       "\n",
       "    .dataframe thead th {\n",
       "        text-align: right;\n",
       "    }\n",
       "</style>\n",
       "<table border=\"1\" class=\"dataframe\">\n",
       "  <thead>\n",
       "    <tr style=\"text-align: right;\">\n",
       "      <th></th>\n",
       "      <th>PassengerId</th>\n",
       "      <th>Survived</th>\n",
       "      <th>Pclass</th>\n",
       "      <th>Name</th>\n",
       "      <th>Sex</th>\n",
       "      <th>Age</th>\n",
       "      <th>SibSp</th>\n",
       "      <th>Parch</th>\n",
       "      <th>Ticket</th>\n",
       "      <th>Fare</th>\n",
       "      <th>Embarked</th>\n",
       "    </tr>\n",
       "  </thead>\n",
       "  <tbody>\n",
       "    <tr>\n",
       "      <th>0</th>\n",
       "      <td>1</td>\n",
       "      <td>0</td>\n",
       "      <td>3</td>\n",
       "      <td>Braund, Mr. Owen Harris</td>\n",
       "      <td>1</td>\n",
       "      <td>22</td>\n",
       "      <td>1</td>\n",
       "      <td>0</td>\n",
       "      <td>A/5 21171</td>\n",
       "      <td>7.2500</td>\n",
       "      <td>S</td>\n",
       "    </tr>\n",
       "    <tr>\n",
       "      <th>1</th>\n",
       "      <td>2</td>\n",
       "      <td>1</td>\n",
       "      <td>1</td>\n",
       "      <td>Cumings, Mrs. John Bradley (Florence Briggs Th...</td>\n",
       "      <td>0</td>\n",
       "      <td>38</td>\n",
       "      <td>1</td>\n",
       "      <td>0</td>\n",
       "      <td>PC 17599</td>\n",
       "      <td>71.2833</td>\n",
       "      <td>C</td>\n",
       "    </tr>\n",
       "    <tr>\n",
       "      <th>2</th>\n",
       "      <td>3</td>\n",
       "      <td>1</td>\n",
       "      <td>3</td>\n",
       "      <td>Heikkinen, Miss. Laina</td>\n",
       "      <td>0</td>\n",
       "      <td>26</td>\n",
       "      <td>0</td>\n",
       "      <td>0</td>\n",
       "      <td>STON/O2. 3101282</td>\n",
       "      <td>7.9250</td>\n",
       "      <td>S</td>\n",
       "    </tr>\n",
       "    <tr>\n",
       "      <th>3</th>\n",
       "      <td>4</td>\n",
       "      <td>1</td>\n",
       "      <td>1</td>\n",
       "      <td>Futrelle, Mrs. Jacques Heath (Lily May Peel)</td>\n",
       "      <td>0</td>\n",
       "      <td>35</td>\n",
       "      <td>1</td>\n",
       "      <td>0</td>\n",
       "      <td>113803</td>\n",
       "      <td>53.1000</td>\n",
       "      <td>S</td>\n",
       "    </tr>\n",
       "    <tr>\n",
       "      <th>4</th>\n",
       "      <td>5</td>\n",
       "      <td>0</td>\n",
       "      <td>3</td>\n",
       "      <td>Allen, Mr. William Henry</td>\n",
       "      <td>1</td>\n",
       "      <td>35</td>\n",
       "      <td>0</td>\n",
       "      <td>0</td>\n",
       "      <td>373450</td>\n",
       "      <td>8.0500</td>\n",
       "      <td>S</td>\n",
       "    </tr>\n",
       "  </tbody>\n",
       "</table>\n",
       "</div>"
      ],
      "text/plain": [
       "  PassengerId  Survived  Pclass  \\\n",
       "0           1         0       3   \n",
       "1           2         1       1   \n",
       "2           3         1       3   \n",
       "3           4         1       1   \n",
       "4           5         0       3   \n",
       "\n",
       "                                                Name  Sex  Age  SibSp  Parch  \\\n",
       "0                            Braund, Mr. Owen Harris    1   22      1      0   \n",
       "1  Cumings, Mrs. John Bradley (Florence Briggs Th...    0   38      1      0   \n",
       "2                             Heikkinen, Miss. Laina    0   26      0      0   \n",
       "3       Futrelle, Mrs. Jacques Heath (Lily May Peel)    0   35      1      0   \n",
       "4                           Allen, Mr. William Henry    1   35      0      0   \n",
       "\n",
       "             Ticket     Fare Embarked  \n",
       "0         A/5 21171   7.2500        S  \n",
       "1          PC 17599  71.2833        C  \n",
       "2  STON/O2. 3101282   7.9250        S  \n",
       "3            113803  53.1000        S  \n",
       "4            373450   8.0500        S  "
      ]
     },
     "execution_count": 15,
     "metadata": {},
     "output_type": "execute_result"
    }
   ],
   "source": [
    "df_train.head()"
   ]
  },
  {
   "cell_type": "code",
   "execution_count": 16,
   "id": "spanish-combine",
   "metadata": {
    "execution": {
     "iopub.execute_input": "2021-06-01T23:13:49.968025Z",
     "iopub.status.busy": "2021-06-01T23:13:49.967080Z",
     "iopub.status.idle": "2021-06-01T23:13:49.970626Z",
     "shell.execute_reply": "2021-06-01T23:13:49.971144Z"
    },
    "papermill": {
     "duration": 0.07757,
     "end_time": "2021-06-01T23:13:49.971316",
     "exception": false,
     "start_time": "2021-06-01T23:13:49.893746",
     "status": "completed"
    },
    "tags": []
   },
   "outputs": [
    {
     "name": "stdout",
     "output_type": "stream",
     "text": [
      "<class 'pandas.core.frame.DataFrame'>\n",
      "RangeIndex: 891 entries, 0 to 890\n",
      "Data columns (total 11 columns):\n",
      " #   Column       Non-Null Count  Dtype  \n",
      "---  ------       --------------  -----  \n",
      " 0   PassengerId  891 non-null    object \n",
      " 1   Survived     891 non-null    int64  \n",
      " 2   Pclass       891 non-null    int64  \n",
      " 3   Name         891 non-null    object \n",
      " 4   Sex          891 non-null    int64  \n",
      " 5   Age          891 non-null    int64  \n",
      " 6   SibSp        891 non-null    int64  \n",
      " 7   Parch        891 non-null    int64  \n",
      " 8   Ticket       891 non-null    object \n",
      " 9   Fare         891 non-null    float64\n",
      " 10  Embarked     891 non-null    object \n",
      "dtypes: float64(1), int64(6), object(4)\n",
      "memory usage: 76.7+ KB\n"
     ]
    }
   ],
   "source": [
    "df_train.info()"
   ]
  },
  {
   "cell_type": "markdown",
   "id": "sacred-professional",
   "metadata": {
    "papermill": {
     "duration": 0.059346,
     "end_time": "2021-06-01T23:13:50.089167",
     "exception": false,
     "start_time": "2021-06-01T23:13:50.029821",
     "status": "completed"
    },
    "tags": []
   },
   "source": [
    "### Done! Now It is all nice and clean\n",
    "#### But still more feature engineering is required, we will create new variables as follows: \n",
    "1. Number of family members on board = 1 + SibSp + Parch\n",
    "2. Title needs to be seprated from Name\n",
    "3. Regrouping the Titles\n",
    "4. Seprate pure numeric Tickets from Text-Numeric Tickets: It may say something about the income and thus the social class of the passenger.\n",
    "5. Regrouping Ticket labels"
   ]
  },
  {
   "cell_type": "code",
   "execution_count": 17,
   "id": "analyzed-tobacco",
   "metadata": {
    "execution": {
     "iopub.execute_input": "2021-06-01T23:13:50.239717Z",
     "iopub.status.busy": "2021-06-01T23:13:50.218049Z",
     "iopub.status.idle": "2021-06-01T23:13:50.247588Z",
     "shell.execute_reply": "2021-06-01T23:13:50.246991Z"
    },
    "papermill": {
     "duration": 0.100281,
     "end_time": "2021-06-01T23:13:50.247770",
     "exception": false,
     "start_time": "2021-06-01T23:13:50.147489",
     "status": "completed"
    },
    "tags": []
   },
   "outputs": [],
   "source": [
    "for df in dfs:\n",
    "    df[\"num_family\"] = 1 + df.SibSp + df.Parch\n",
    "    df[\"Title\"] = df[\"Name\"].apply(lambda x: x.split(\",\")[1].split(\".\")[0].strip())\n",
    "    df[\"Title\"] = df[\"Title\"].replace([\"Mlle\", \"Major\", \"Col\", \"Jonkheer\", \"Ms\", \"Lady\", \"the Countess\", \"Mme\", \"Sir\", \"Capt\", \"Don\"], \"Other\")\n",
    "    df['numeric_ticket'] = df.Ticket.apply(lambda x: 1 if x.isnumeric() else 0)\n",
    "    df[\"Ticket_Text\"] = df[\"Ticket\"].apply(lambda x: x.split(\" \")[0].replace(\"/\", \"\").replace(\".\", \"\").lower() if len(x.split(\" \")) > 1 else 0)\n",
    "    df[\"Ticket_Text\"] = df[\"Ticket_Text\"].replace([\"swpp\", \"sotono2\", \"ppp\", \"fa\", \"casoton\", \"sop\", \"sp\", \"as\", \"sca4\", \"scow\", \"fc\", \"sc\"], \"other\")\n",
    "    df[\"Is_Alone\"] = df[\"num_family\"].apply(lambda x: 1 if x < 2 else 0)\n",
    "    "
   ]
  },
  {
   "cell_type": "code",
   "execution_count": 18,
   "id": "public-beatles",
   "metadata": {
    "execution": {
     "iopub.execute_input": "2021-06-01T23:13:50.384525Z",
     "iopub.status.busy": "2021-06-01T23:13:50.370703Z",
     "iopub.status.idle": "2021-06-01T23:13:50.389058Z",
     "shell.execute_reply": "2021-06-01T23:13:50.389522Z"
    },
    "papermill": {
     "duration": 0.083651,
     "end_time": "2021-06-01T23:13:50.389719",
     "exception": false,
     "start_time": "2021-06-01T23:13:50.306068",
     "status": "completed"
    },
    "tags": []
   },
   "outputs": [
    {
     "data": {
      "text/html": [
       "<div>\n",
       "<style scoped>\n",
       "    .dataframe tbody tr th:only-of-type {\n",
       "        vertical-align: middle;\n",
       "    }\n",
       "\n",
       "    .dataframe tbody tr th {\n",
       "        vertical-align: top;\n",
       "    }\n",
       "\n",
       "    .dataframe thead th {\n",
       "        text-align: right;\n",
       "    }\n",
       "</style>\n",
       "<table border=\"1\" class=\"dataframe\">\n",
       "  <thead>\n",
       "    <tr style=\"text-align: right;\">\n",
       "      <th></th>\n",
       "      <th>PassengerId</th>\n",
       "      <th>Survived</th>\n",
       "      <th>Pclass</th>\n",
       "      <th>Name</th>\n",
       "      <th>Sex</th>\n",
       "      <th>Age</th>\n",
       "      <th>SibSp</th>\n",
       "      <th>Parch</th>\n",
       "      <th>Ticket</th>\n",
       "      <th>Fare</th>\n",
       "      <th>Embarked</th>\n",
       "      <th>num_family</th>\n",
       "      <th>Title</th>\n",
       "      <th>numeric_ticket</th>\n",
       "      <th>Ticket_Text</th>\n",
       "      <th>Is_Alone</th>\n",
       "    </tr>\n",
       "  </thead>\n",
       "  <tbody>\n",
       "    <tr>\n",
       "      <th>0</th>\n",
       "      <td>1</td>\n",
       "      <td>0</td>\n",
       "      <td>3</td>\n",
       "      <td>Braund, Mr. Owen Harris</td>\n",
       "      <td>1</td>\n",
       "      <td>22</td>\n",
       "      <td>1</td>\n",
       "      <td>0</td>\n",
       "      <td>A/5 21171</td>\n",
       "      <td>7.2500</td>\n",
       "      <td>S</td>\n",
       "      <td>2</td>\n",
       "      <td>Mr</td>\n",
       "      <td>0</td>\n",
       "      <td>a5</td>\n",
       "      <td>0</td>\n",
       "    </tr>\n",
       "    <tr>\n",
       "      <th>1</th>\n",
       "      <td>2</td>\n",
       "      <td>1</td>\n",
       "      <td>1</td>\n",
       "      <td>Cumings, Mrs. John Bradley (Florence Briggs Th...</td>\n",
       "      <td>0</td>\n",
       "      <td>38</td>\n",
       "      <td>1</td>\n",
       "      <td>0</td>\n",
       "      <td>PC 17599</td>\n",
       "      <td>71.2833</td>\n",
       "      <td>C</td>\n",
       "      <td>2</td>\n",
       "      <td>Mrs</td>\n",
       "      <td>0</td>\n",
       "      <td>pc</td>\n",
       "      <td>0</td>\n",
       "    </tr>\n",
       "    <tr>\n",
       "      <th>2</th>\n",
       "      <td>3</td>\n",
       "      <td>1</td>\n",
       "      <td>3</td>\n",
       "      <td>Heikkinen, Miss. Laina</td>\n",
       "      <td>0</td>\n",
       "      <td>26</td>\n",
       "      <td>0</td>\n",
       "      <td>0</td>\n",
       "      <td>STON/O2. 3101282</td>\n",
       "      <td>7.9250</td>\n",
       "      <td>S</td>\n",
       "      <td>1</td>\n",
       "      <td>Miss</td>\n",
       "      <td>0</td>\n",
       "      <td>stono2</td>\n",
       "      <td>1</td>\n",
       "    </tr>\n",
       "    <tr>\n",
       "      <th>3</th>\n",
       "      <td>4</td>\n",
       "      <td>1</td>\n",
       "      <td>1</td>\n",
       "      <td>Futrelle, Mrs. Jacques Heath (Lily May Peel)</td>\n",
       "      <td>0</td>\n",
       "      <td>35</td>\n",
       "      <td>1</td>\n",
       "      <td>0</td>\n",
       "      <td>113803</td>\n",
       "      <td>53.1000</td>\n",
       "      <td>S</td>\n",
       "      <td>2</td>\n",
       "      <td>Mrs</td>\n",
       "      <td>1</td>\n",
       "      <td>0</td>\n",
       "      <td>0</td>\n",
       "    </tr>\n",
       "    <tr>\n",
       "      <th>4</th>\n",
       "      <td>5</td>\n",
       "      <td>0</td>\n",
       "      <td>3</td>\n",
       "      <td>Allen, Mr. William Henry</td>\n",
       "      <td>1</td>\n",
       "      <td>35</td>\n",
       "      <td>0</td>\n",
       "      <td>0</td>\n",
       "      <td>373450</td>\n",
       "      <td>8.0500</td>\n",
       "      <td>S</td>\n",
       "      <td>1</td>\n",
       "      <td>Mr</td>\n",
       "      <td>1</td>\n",
       "      <td>0</td>\n",
       "      <td>1</td>\n",
       "    </tr>\n",
       "  </tbody>\n",
       "</table>\n",
       "</div>"
      ],
      "text/plain": [
       "  PassengerId  Survived  Pclass  \\\n",
       "0           1         0       3   \n",
       "1           2         1       1   \n",
       "2           3         1       3   \n",
       "3           4         1       1   \n",
       "4           5         0       3   \n",
       "\n",
       "                                                Name  Sex  Age  SibSp  Parch  \\\n",
       "0                            Braund, Mr. Owen Harris    1   22      1      0   \n",
       "1  Cumings, Mrs. John Bradley (Florence Briggs Th...    0   38      1      0   \n",
       "2                             Heikkinen, Miss. Laina    0   26      0      0   \n",
       "3       Futrelle, Mrs. Jacques Heath (Lily May Peel)    0   35      1      0   \n",
       "4                           Allen, Mr. William Henry    1   35      0      0   \n",
       "\n",
       "             Ticket     Fare Embarked  num_family Title  numeric_ticket  \\\n",
       "0         A/5 21171   7.2500        S           2    Mr               0   \n",
       "1          PC 17599  71.2833        C           2   Mrs               0   \n",
       "2  STON/O2. 3101282   7.9250        S           1  Miss               0   \n",
       "3            113803  53.1000        S           2   Mrs               1   \n",
       "4            373450   8.0500        S           1    Mr               1   \n",
       "\n",
       "  Ticket_Text  Is_Alone  \n",
       "0          a5         0  \n",
       "1          pc         0  \n",
       "2      stono2         1  \n",
       "3           0         0  \n",
       "4           0         1  "
      ]
     },
     "execution_count": 18,
     "metadata": {},
     "output_type": "execute_result"
    }
   ],
   "source": [
    "df_train.head()"
   ]
  },
  {
   "cell_type": "markdown",
   "id": "stunning-jacob",
   "metadata": {
    "papermill": {
     "duration": 0.058704,
     "end_time": "2021-06-01T23:13:50.508344",
     "exception": false,
     "start_time": "2021-06-01T23:13:50.449640",
     "status": "completed"
    },
    "tags": []
   },
   "source": [
    "To better understand the relationship between Survival and other Continious features such as Fare and Age, we need to convert the latter int catgorical features."
   ]
  },
  {
   "cell_type": "code",
   "execution_count": 19,
   "id": "coordinated-indie",
   "metadata": {
    "execution": {
     "iopub.execute_input": "2021-06-01T23:13:50.633935Z",
     "iopub.status.busy": "2021-06-01T23:13:50.632663Z",
     "iopub.status.idle": "2021-06-01T23:13:50.643494Z",
     "shell.execute_reply": "2021-06-01T23:13:50.642823Z"
    },
    "papermill": {
     "duration": 0.075121,
     "end_time": "2021-06-01T23:13:50.643652",
     "exception": false,
     "start_time": "2021-06-01T23:13:50.568531",
     "status": "completed"
    },
    "tags": []
   },
   "outputs": [],
   "source": [
    "for df in dfs:\n",
    "    df['Age_bins'] = pd.qcut(df['Age'], labels = [\"<19\", \"19-23\", \"24-25\", \"26-31\", \"32-40\", \"41-80\"], q = 6)\n",
    "    "
   ]
  },
  {
   "cell_type": "code",
   "execution_count": 20,
   "id": "interracial-sally",
   "metadata": {
    "execution": {
     "iopub.execute_input": "2021-06-01T23:13:50.767214Z",
     "iopub.status.busy": "2021-06-01T23:13:50.766528Z",
     "iopub.status.idle": "2021-06-01T23:13:50.768861Z",
     "shell.execute_reply": "2021-06-01T23:13:50.769342Z"
    },
    "papermill": {
     "duration": 0.067306,
     "end_time": "2021-06-01T23:13:50.769521",
     "exception": false,
     "start_time": "2021-06-01T23:13:50.702215",
     "status": "completed"
    },
    "tags": []
   },
   "outputs": [],
   "source": [
    "dfs = [df_train, df_test]"
   ]
  },
  {
   "cell_type": "code",
   "execution_count": 21,
   "id": "fifth-context",
   "metadata": {
    "execution": {
     "iopub.execute_input": "2021-06-01T23:13:50.892441Z",
     "iopub.status.busy": "2021-06-01T23:13:50.891666Z",
     "iopub.status.idle": "2021-06-01T23:13:50.901639Z",
     "shell.execute_reply": "2021-06-01T23:13:50.902240Z"
    },
    "papermill": {
     "duration": 0.073013,
     "end_time": "2021-06-01T23:13:50.902447",
     "exception": false,
     "start_time": "2021-06-01T23:13:50.829434",
     "status": "completed"
    },
    "tags": []
   },
   "outputs": [],
   "source": [
    "for df in dfs:\n",
    "    df[\"Fare_bins\"] = pd.qcut(df[\"Fare\"], labels = [\"<7\", \"7-8.5\", \"8.6-13\", \"14-25\", \"26-51\", \"52-512\"], q = 6)"
   ]
  },
  {
   "cell_type": "markdown",
   "id": "nasty-religion",
   "metadata": {
    "papermill": {
     "duration": 0.05813,
     "end_time": "2021-06-01T23:13:51.019880",
     "exception": false,
     "start_time": "2021-06-01T23:13:50.961750",
     "status": "completed"
    },
    "tags": []
   },
   "source": [
    "### 3. Explanatory Data analysis\n",
    "In this section we will explore who had the highest probability of survival, during this process we will select the most relevant variables to feed the model with. "
   ]
  },
  {
   "cell_type": "code",
   "execution_count": 22,
   "id": "direct-kentucky",
   "metadata": {
    "execution": {
     "iopub.execute_input": "2021-06-01T23:13:51.143857Z",
     "iopub.status.busy": "2021-06-01T23:13:51.143210Z",
     "iopub.status.idle": "2021-06-01T23:13:51.189349Z",
     "shell.execute_reply": "2021-06-01T23:13:51.188821Z"
    },
    "papermill": {
     "duration": 0.108734,
     "end_time": "2021-06-01T23:13:51.189524",
     "exception": false,
     "start_time": "2021-06-01T23:13:51.080790",
     "status": "completed"
    },
    "tags": []
   },
   "outputs": [
    {
     "data": {
      "text/html": [
       "<div>\n",
       "<style scoped>\n",
       "    .dataframe tbody tr th:only-of-type {\n",
       "        vertical-align: middle;\n",
       "    }\n",
       "\n",
       "    .dataframe tbody tr th {\n",
       "        vertical-align: top;\n",
       "    }\n",
       "\n",
       "    .dataframe thead th {\n",
       "        text-align: right;\n",
       "    }\n",
       "</style>\n",
       "<table border=\"1\" class=\"dataframe\">\n",
       "  <thead>\n",
       "    <tr style=\"text-align: right;\">\n",
       "      <th></th>\n",
       "      <th>Survived</th>\n",
       "      <th>Pclass</th>\n",
       "      <th>Sex</th>\n",
       "      <th>Age</th>\n",
       "      <th>SibSp</th>\n",
       "      <th>Parch</th>\n",
       "      <th>Fare</th>\n",
       "      <th>num_family</th>\n",
       "      <th>numeric_ticket</th>\n",
       "      <th>Is_Alone</th>\n",
       "    </tr>\n",
       "  </thead>\n",
       "  <tbody>\n",
       "    <tr>\n",
       "      <th>count</th>\n",
       "      <td>891.000000</td>\n",
       "      <td>891.000000</td>\n",
       "      <td>891.000000</td>\n",
       "      <td>891.000000</td>\n",
       "      <td>891.000000</td>\n",
       "      <td>891.000000</td>\n",
       "      <td>891.000000</td>\n",
       "      <td>891.000000</td>\n",
       "      <td>891.000000</td>\n",
       "      <td>891.000000</td>\n",
       "    </tr>\n",
       "    <tr>\n",
       "      <th>mean</th>\n",
       "      <td>0.383838</td>\n",
       "      <td>2.308642</td>\n",
       "      <td>0.647587</td>\n",
       "      <td>29.239057</td>\n",
       "      <td>0.523008</td>\n",
       "      <td>0.381594</td>\n",
       "      <td>32.204208</td>\n",
       "      <td>1.904602</td>\n",
       "      <td>0.741863</td>\n",
       "      <td>0.602694</td>\n",
       "    </tr>\n",
       "    <tr>\n",
       "      <th>std</th>\n",
       "      <td>0.486592</td>\n",
       "      <td>0.836071</td>\n",
       "      <td>0.477990</td>\n",
       "      <td>13.286222</td>\n",
       "      <td>1.102743</td>\n",
       "      <td>0.806057</td>\n",
       "      <td>49.693429</td>\n",
       "      <td>1.613459</td>\n",
       "      <td>0.437855</td>\n",
       "      <td>0.489615</td>\n",
       "    </tr>\n",
       "    <tr>\n",
       "      <th>min</th>\n",
       "      <td>0.000000</td>\n",
       "      <td>1.000000</td>\n",
       "      <td>0.000000</td>\n",
       "      <td>0.000000</td>\n",
       "      <td>0.000000</td>\n",
       "      <td>0.000000</td>\n",
       "      <td>0.000000</td>\n",
       "      <td>1.000000</td>\n",
       "      <td>0.000000</td>\n",
       "      <td>0.000000</td>\n",
       "    </tr>\n",
       "    <tr>\n",
       "      <th>25%</th>\n",
       "      <td>0.000000</td>\n",
       "      <td>2.000000</td>\n",
       "      <td>0.000000</td>\n",
       "      <td>22.000000</td>\n",
       "      <td>0.000000</td>\n",
       "      <td>0.000000</td>\n",
       "      <td>7.910400</td>\n",
       "      <td>1.000000</td>\n",
       "      <td>0.000000</td>\n",
       "      <td>0.000000</td>\n",
       "    </tr>\n",
       "    <tr>\n",
       "      <th>50%</th>\n",
       "      <td>0.000000</td>\n",
       "      <td>3.000000</td>\n",
       "      <td>1.000000</td>\n",
       "      <td>26.000000</td>\n",
       "      <td>0.000000</td>\n",
       "      <td>0.000000</td>\n",
       "      <td>14.454200</td>\n",
       "      <td>1.000000</td>\n",
       "      <td>1.000000</td>\n",
       "      <td>1.000000</td>\n",
       "    </tr>\n",
       "    <tr>\n",
       "      <th>75%</th>\n",
       "      <td>1.000000</td>\n",
       "      <td>3.000000</td>\n",
       "      <td>1.000000</td>\n",
       "      <td>36.000000</td>\n",
       "      <td>1.000000</td>\n",
       "      <td>0.000000</td>\n",
       "      <td>31.000000</td>\n",
       "      <td>2.000000</td>\n",
       "      <td>1.000000</td>\n",
       "      <td>1.000000</td>\n",
       "    </tr>\n",
       "    <tr>\n",
       "      <th>max</th>\n",
       "      <td>1.000000</td>\n",
       "      <td>3.000000</td>\n",
       "      <td>1.000000</td>\n",
       "      <td>80.000000</td>\n",
       "      <td>8.000000</td>\n",
       "      <td>6.000000</td>\n",
       "      <td>512.329200</td>\n",
       "      <td>11.000000</td>\n",
       "      <td>1.000000</td>\n",
       "      <td>1.000000</td>\n",
       "    </tr>\n",
       "  </tbody>\n",
       "</table>\n",
       "</div>"
      ],
      "text/plain": [
       "         Survived      Pclass         Sex         Age       SibSp       Parch  \\\n",
       "count  891.000000  891.000000  891.000000  891.000000  891.000000  891.000000   \n",
       "mean     0.383838    2.308642    0.647587   29.239057    0.523008    0.381594   \n",
       "std      0.486592    0.836071    0.477990   13.286222    1.102743    0.806057   \n",
       "min      0.000000    1.000000    0.000000    0.000000    0.000000    0.000000   \n",
       "25%      0.000000    2.000000    0.000000   22.000000    0.000000    0.000000   \n",
       "50%      0.000000    3.000000    1.000000   26.000000    0.000000    0.000000   \n",
       "75%      1.000000    3.000000    1.000000   36.000000    1.000000    0.000000   \n",
       "max      1.000000    3.000000    1.000000   80.000000    8.000000    6.000000   \n",
       "\n",
       "             Fare  num_family  numeric_ticket    Is_Alone  \n",
       "count  891.000000  891.000000      891.000000  891.000000  \n",
       "mean    32.204208    1.904602        0.741863    0.602694  \n",
       "std     49.693429    1.613459        0.437855    0.489615  \n",
       "min      0.000000    1.000000        0.000000    0.000000  \n",
       "25%      7.910400    1.000000        0.000000    0.000000  \n",
       "50%     14.454200    1.000000        1.000000    1.000000  \n",
       "75%     31.000000    2.000000        1.000000    1.000000  \n",
       "max    512.329200   11.000000        1.000000    1.000000  "
      ]
     },
     "execution_count": 22,
     "metadata": {},
     "output_type": "execute_result"
    }
   ],
   "source": [
    "df_train.describe()"
   ]
  },
  {
   "cell_type": "code",
   "execution_count": 23,
   "id": "sticky-desert",
   "metadata": {
    "execution": {
     "iopub.execute_input": "2021-06-01T23:13:51.316156Z",
     "iopub.status.busy": "2021-06-01T23:13:51.315473Z",
     "iopub.status.idle": "2021-06-01T23:13:51.340251Z",
     "shell.execute_reply": "2021-06-01T23:13:51.339564Z"
    },
    "papermill": {
     "duration": 0.088081,
     "end_time": "2021-06-01T23:13:51.340396",
     "exception": false,
     "start_time": "2021-06-01T23:13:51.252315",
     "status": "completed"
    },
    "tags": []
   },
   "outputs": [
    {
     "data": {
      "text/html": [
       "<div>\n",
       "<style scoped>\n",
       "    .dataframe tbody tr th:only-of-type {\n",
       "        vertical-align: middle;\n",
       "    }\n",
       "\n",
       "    .dataframe tbody tr th {\n",
       "        vertical-align: top;\n",
       "    }\n",
       "\n",
       "    .dataframe thead th {\n",
       "        text-align: right;\n",
       "    }\n",
       "</style>\n",
       "<table border=\"1\" class=\"dataframe\">\n",
       "  <thead>\n",
       "    <tr style=\"text-align: right;\">\n",
       "      <th></th>\n",
       "      <th>Survived</th>\n",
       "    </tr>\n",
       "    <tr>\n",
       "      <th>Fare_bins</th>\n",
       "      <th></th>\n",
       "    </tr>\n",
       "  </thead>\n",
       "  <tbody>\n",
       "    <tr>\n",
       "      <th>52-512</th>\n",
       "      <td>69.8</td>\n",
       "    </tr>\n",
       "    <tr>\n",
       "      <th>14-25</th>\n",
       "      <td>43.6</td>\n",
       "    </tr>\n",
       "    <tr>\n",
       "      <th>26-51</th>\n",
       "      <td>41.8</td>\n",
       "    </tr>\n",
       "    <tr>\n",
       "      <th>8.6-13</th>\n",
       "      <td>36.7</td>\n",
       "    </tr>\n",
       "    <tr>\n",
       "      <th>&lt;7</th>\n",
       "      <td>20.5</td>\n",
       "    </tr>\n",
       "    <tr>\n",
       "      <th>7-8.5</th>\n",
       "      <td>19.1</td>\n",
       "    </tr>\n",
       "  </tbody>\n",
       "</table>\n",
       "</div>"
      ],
      "text/plain": [
       "           Survived\n",
       "Fare_bins          \n",
       "52-512         69.8\n",
       "14-25          43.6\n",
       "26-51          41.8\n",
       "8.6-13         36.7\n",
       "<7             20.5\n",
       "7-8.5          19.1"
      ]
     },
     "execution_count": 23,
     "metadata": {},
     "output_type": "execute_result"
    }
   ],
   "source": [
    "Fare_Sur = pd.pivot_table(data = df_train, index = \"Fare_bins\", values = \"Survived\").sort_values(by = \"Survived\", ascending = False) * 100\n",
    "round(Fare_Sur, 1)"
   ]
  },
  {
   "cell_type": "code",
   "execution_count": 24,
   "id": "secure-convert",
   "metadata": {
    "execution": {
     "iopub.execute_input": "2021-06-01T23:13:51.485363Z",
     "iopub.status.busy": "2021-06-01T23:13:51.484396Z",
     "iopub.status.idle": "2021-06-01T23:13:51.488259Z",
     "shell.execute_reply": "2021-06-01T23:13:51.488773Z"
    },
    "papermill": {
     "duration": 0.088733,
     "end_time": "2021-06-01T23:13:51.488957",
     "exception": false,
     "start_time": "2021-06-01T23:13:51.400224",
     "status": "completed"
    },
    "tags": []
   },
   "outputs": [
    {
     "data": {
      "text/html": [
       "<div>\n",
       "<style scoped>\n",
       "    .dataframe tbody tr th:only-of-type {\n",
       "        vertical-align: middle;\n",
       "    }\n",
       "\n",
       "    .dataframe tbody tr th {\n",
       "        vertical-align: top;\n",
       "    }\n",
       "\n",
       "    .dataframe thead th {\n",
       "        text-align: right;\n",
       "    }\n",
       "</style>\n",
       "<table border=\"1\" class=\"dataframe\">\n",
       "  <thead>\n",
       "    <tr style=\"text-align: right;\">\n",
       "      <th></th>\n",
       "      <th>Survived</th>\n",
       "    </tr>\n",
       "    <tr>\n",
       "      <th>Age_bins</th>\n",
       "      <th></th>\n",
       "    </tr>\n",
       "  </thead>\n",
       "  <tbody>\n",
       "    <tr>\n",
       "      <th>&lt;19</th>\n",
       "      <td>48.2</td>\n",
       "    </tr>\n",
       "    <tr>\n",
       "      <th>32-40</th>\n",
       "      <td>43.5</td>\n",
       "    </tr>\n",
       "    <tr>\n",
       "      <th>26-31</th>\n",
       "      <td>41.4</td>\n",
       "    </tr>\n",
       "    <tr>\n",
       "      <th>19-23</th>\n",
       "      <td>41.0</td>\n",
       "    </tr>\n",
       "    <tr>\n",
       "      <th>41-80</th>\n",
       "      <td>37.3</td>\n",
       "    </tr>\n",
       "    <tr>\n",
       "      <th>24-25</th>\n",
       "      <td>15.6</td>\n",
       "    </tr>\n",
       "  </tbody>\n",
       "</table>\n",
       "</div>"
      ],
      "text/plain": [
       "          Survived\n",
       "Age_bins          \n",
       "<19           48.2\n",
       "32-40         43.5\n",
       "26-31         41.4\n",
       "19-23         41.0\n",
       "41-80         37.3\n",
       "24-25         15.6"
      ]
     },
     "execution_count": 24,
     "metadata": {},
     "output_type": "execute_result"
    }
   ],
   "source": [
    "Age_Sur = pd.pivot_table(data = df_train, index = \"Age_bins\", values = \"Survived\").sort_values(by = \"Survived\", ascending = False) * 100\n",
    "round(Age_Sur, 1)"
   ]
  },
  {
   "cell_type": "code",
   "execution_count": 25,
   "id": "sunset-fitting",
   "metadata": {
    "execution": {
     "iopub.execute_input": "2021-06-01T23:13:51.614043Z",
     "iopub.status.busy": "2021-06-01T23:13:51.613019Z",
     "iopub.status.idle": "2021-06-01T23:13:51.817107Z",
     "shell.execute_reply": "2021-06-01T23:13:51.816526Z"
    },
    "papermill": {
     "duration": 0.268039,
     "end_time": "2021-06-01T23:13:51.817261",
     "exception": false,
     "start_time": "2021-06-01T23:13:51.549222",
     "status": "completed"
    },
    "tags": []
   },
   "outputs": [
    {
     "data": {
      "image/png": "[encoded data removed]",
      "text/plain": [
       "<Figure size 800x400 with 1 Axes>"
      ]
     },
     "metadata": {
      "needs_background": "light"
     },
     "output_type": "display_data"
    }
   ],
   "source": [
    "plt.figure(figsize = (8, 4), dpi = 100)\n",
    "sns.barplot(data = df_train, x = \"Fare_bins\", y = \"Survived\", ci = None)\n",
    "plt.title(\"Distribution of survivors by Fare\")\n",
    "plt.show()"
   ]
  },
  {
   "cell_type": "code",
   "execution_count": 26,
   "id": "nonprofit-stress",
   "metadata": {
    "execution": {
     "iopub.execute_input": "2021-06-01T23:13:51.952199Z",
     "iopub.status.busy": "2021-06-01T23:13:51.951136Z",
     "iopub.status.idle": "2021-06-01T23:13:52.086326Z",
     "shell.execute_reply": "2021-06-01T23:13:52.086815Z"
    },
    "papermill": {
     "duration": 0.208402,
     "end_time": "2021-06-01T23:13:52.087013",
     "exception": false,
     "start_time": "2021-06-01T23:13:51.878611",
     "status": "completed"
    },
    "tags": []
   },
   "outputs": [
    {
     "data": {
      "image/png": "[encoded data removed]",
      "text/plain": [
       "<Figure size 800x400 with 1 Axes>"
      ]
     },
     "metadata": {
      "needs_background": "light"
     },
     "output_type": "display_data"
    }
   ],
   "source": [
    "plt.figure(figsize = (8, 4), dpi = 100)\n",
    "sns.barplot(data = df_train, x = \"Pclass\", y = \"Survived\", ci = None)\n",
    "plt.title(\"Distribution of survivors by Pclass\")\n",
    "plt.show()"
   ]
  },
  {
   "cell_type": "code",
   "execution_count": 27,
   "id": "honest-acceptance",
   "metadata": {
    "execution": {
     "iopub.execute_input": "2021-06-01T23:13:52.217733Z",
     "iopub.status.busy": "2021-06-01T23:13:52.216692Z",
     "iopub.status.idle": "2021-06-01T23:13:52.237271Z",
     "shell.execute_reply": "2021-06-01T23:13:52.237771Z"
    },
    "papermill": {
     "duration": 0.088025,
     "end_time": "2021-06-01T23:13:52.237955",
     "exception": false,
     "start_time": "2021-06-01T23:13:52.149930",
     "status": "completed"
    },
    "tags": []
   },
   "outputs": [
    {
     "data": {
      "text/html": [
       "<div>\n",
       "<style scoped>\n",
       "    .dataframe tbody tr th:only-of-type {\n",
       "        vertical-align: middle;\n",
       "    }\n",
       "\n",
       "    .dataframe tbody tr th {\n",
       "        vertical-align: top;\n",
       "    }\n",
       "\n",
       "    .dataframe thead th {\n",
       "        text-align: right;\n",
       "    }\n",
       "</style>\n",
       "<table border=\"1\" class=\"dataframe\">\n",
       "  <thead>\n",
       "    <tr style=\"text-align: right;\">\n",
       "      <th></th>\n",
       "      <th>Survived</th>\n",
       "      <th>Pclass</th>\n",
       "      <th>Sex</th>\n",
       "      <th>Age</th>\n",
       "      <th>SibSp</th>\n",
       "      <th>Parch</th>\n",
       "      <th>Fare</th>\n",
       "      <th>num_family</th>\n",
       "      <th>numeric_ticket</th>\n",
       "      <th>Is_Alone</th>\n",
       "    </tr>\n",
       "    <tr>\n",
       "      <th>Fare_bins</th>\n",
       "      <th></th>\n",
       "      <th></th>\n",
       "      <th></th>\n",
       "      <th></th>\n",
       "      <th></th>\n",
       "      <th></th>\n",
       "      <th></th>\n",
       "      <th></th>\n",
       "      <th></th>\n",
       "      <th></th>\n",
       "    </tr>\n",
       "  </thead>\n",
       "  <tbody>\n",
       "    <tr>\n",
       "      <th>&lt;7</th>\n",
       "      <td>0.205128</td>\n",
       "      <td>2.884615</td>\n",
       "      <td>0.794872</td>\n",
       "      <td>28.025641</td>\n",
       "      <td>0.057692</td>\n",
       "      <td>0.025641</td>\n",
       "      <td>6.674201</td>\n",
       "      <td>1.083333</td>\n",
       "      <td>0.794872</td>\n",
       "      <td>0.935897</td>\n",
       "    </tr>\n",
       "    <tr>\n",
       "      <th>7-8.5</th>\n",
       "      <td>0.190789</td>\n",
       "      <td>3.000000</td>\n",
       "      <td>0.855263</td>\n",
       "      <td>26.815789</td>\n",
       "      <td>0.098684</td>\n",
       "      <td>0.032895</td>\n",
       "      <td>8.029107</td>\n",
       "      <td>1.131579</td>\n",
       "      <td>0.743421</td>\n",
       "      <td>0.927632</td>\n",
       "    </tr>\n",
       "    <tr>\n",
       "      <th>8.6-13</th>\n",
       "      <td>0.366906</td>\n",
       "      <td>2.381295</td>\n",
       "      <td>0.597122</td>\n",
       "      <td>29.251799</td>\n",
       "      <td>0.151079</td>\n",
       "      <td>0.129496</td>\n",
       "      <td>11.751770</td>\n",
       "      <td>1.280576</td>\n",
       "      <td>0.798561</td>\n",
       "      <td>0.791367</td>\n",
       "    </tr>\n",
       "    <tr>\n",
       "      <th>14-25</th>\n",
       "      <td>0.436242</td>\n",
       "      <td>2.563758</td>\n",
       "      <td>0.510067</td>\n",
       "      <td>26.093960</td>\n",
       "      <td>0.818792</td>\n",
       "      <td>0.597315</td>\n",
       "      <td>20.517505</td>\n",
       "      <td>2.416107</td>\n",
       "      <td>0.805369</td>\n",
       "      <td>0.221477</td>\n",
       "    </tr>\n",
       "    <tr>\n",
       "      <th>26-51</th>\n",
       "      <td>0.417808</td>\n",
       "      <td>1.739726</td>\n",
       "      <td>0.671233</td>\n",
       "      <td>31.458904</td>\n",
       "      <td>1.054795</td>\n",
       "      <td>0.924658</td>\n",
       "      <td>34.129679</td>\n",
       "      <td>2.979452</td>\n",
       "      <td>0.698630</td>\n",
       "      <td>0.445205</td>\n",
       "    </tr>\n",
       "    <tr>\n",
       "      <th>52-512</th>\n",
       "      <td>0.697987</td>\n",
       "      <td>1.234899</td>\n",
       "      <td>0.442953</td>\n",
       "      <td>33.939597</td>\n",
       "      <td>0.973154</td>\n",
       "      <td>0.597315</td>\n",
       "      <td>112.475251</td>\n",
       "      <td>2.570470</td>\n",
       "      <td>0.610738</td>\n",
       "      <td>0.281879</td>\n",
       "    </tr>\n",
       "  </tbody>\n",
       "</table>\n",
       "</div>"
      ],
      "text/plain": [
       "           Survived    Pclass       Sex        Age     SibSp     Parch  \\\n",
       "Fare_bins                                                                \n",
       "<7         0.205128  2.884615  0.794872  28.025641  0.057692  0.025641   \n",
       "7-8.5      0.190789  3.000000  0.855263  26.815789  0.098684  0.032895   \n",
       "8.6-13     0.366906  2.381295  0.597122  29.251799  0.151079  0.129496   \n",
       "14-25      0.436242  2.563758  0.510067  26.093960  0.818792  0.597315   \n",
       "26-51      0.417808  1.739726  0.671233  31.458904  1.054795  0.924658   \n",
       "52-512     0.697987  1.234899  0.442953  33.939597  0.973154  0.597315   \n",
       "\n",
       "                 Fare  num_family  numeric_ticket  Is_Alone  \n",
       "Fare_bins                                                    \n",
       "<7           6.674201    1.083333        0.794872  0.935897  \n",
       "7-8.5        8.029107    1.131579        0.743421  0.927632  \n",
       "8.6-13      11.751770    1.280576        0.798561  0.791367  \n",
       "14-25       20.517505    2.416107        0.805369  0.221477  \n",
       "26-51       34.129679    2.979452        0.698630  0.445205  \n",
       "52-512     112.475251    2.570470        0.610738  0.281879  "
      ]
     },
     "execution_count": 27,
     "metadata": {},
     "output_type": "execute_result"
    }
   ],
   "source": [
    " df_train.groupby(\"Fare_bins\").mean()"
   ]
  },
  {
   "cell_type": "markdown",
   "id": "interpreted-hollywood",
   "metadata": {
    "papermill": {
     "duration": 0.063437,
     "end_time": "2021-06-01T23:13:52.364154",
     "exception": false,
     "start_time": "2021-06-01T23:13:52.300717",
     "status": "completed"
    },
    "tags": []
   },
   "source": [
    "**Conclusion 1:** The more rich the passenger was, the more likely he survived."
   ]
  },
  {
   "cell_type": "code",
   "execution_count": 28,
   "id": "rising-gentleman",
   "metadata": {
    "execution": {
     "iopub.execute_input": "2021-06-01T23:13:52.493517Z",
     "iopub.status.busy": "2021-06-01T23:13:52.492553Z",
     "iopub.status.idle": "2021-06-01T23:13:52.646573Z",
     "shell.execute_reply": "2021-06-01T23:13:52.647257Z"
    },
    "papermill": {
     "duration": 0.22064,
     "end_time": "2021-06-01T23:13:52.647447",
     "exception": false,
     "start_time": "2021-06-01T23:13:52.426807",
     "status": "completed"
    },
    "tags": []
   },
   "outputs": [
    {
     "data": {
      "image/png": "[encoded data removed]",
      "text/plain": [
       "<Figure size 800x400 with 1 Axes>"
      ]
     },
     "metadata": {
      "needs_background": "light"
     },
     "output_type": "display_data"
    }
   ],
   "source": [
    "plt.figure(figsize = (8, 4), dpi = 100)\n",
    "sns.barplot(data = df_train, x = \"Age_bins\", y = \"Survived\", ci = None)\n",
    "plt.title(\"Distribution of survivors by Age\")\n",
    "plt.show()"
   ]
  },
  {
   "cell_type": "markdown",
   "id": "lovely-telling",
   "metadata": {
    "papermill": {
     "duration": 0.064439,
     "end_time": "2021-06-01T23:13:52.776420",
     "exception": false,
     "start_time": "2021-06-01T23:13:52.711981",
     "status": "completed"
    },
    "tags": []
   },
   "source": [
    "**Age bins (execluding 24 - 25) have similar survival rate. We need to further invistigate this age band in specific.**"
   ]
  },
  {
   "cell_type": "code",
   "execution_count": 29,
   "id": "valuable-croatia",
   "metadata": {
    "execution": {
     "iopub.execute_input": "2021-06-01T23:13:52.913319Z",
     "iopub.status.busy": "2021-06-01T23:13:52.912662Z",
     "iopub.status.idle": "2021-06-01T23:13:52.930198Z",
     "shell.execute_reply": "2021-06-01T23:13:52.930787Z"
    },
    "papermill": {
     "duration": 0.089288,
     "end_time": "2021-06-01T23:13:52.930961",
     "exception": false,
     "start_time": "2021-06-01T23:13:52.841673",
     "status": "completed"
    },
    "tags": []
   },
   "outputs": [
    {
     "data": {
      "text/html": [
       "<div>\n",
       "<style scoped>\n",
       "    .dataframe tbody tr th:only-of-type {\n",
       "        vertical-align: middle;\n",
       "    }\n",
       "\n",
       "    .dataframe tbody tr th {\n",
       "        vertical-align: top;\n",
       "    }\n",
       "\n",
       "    .dataframe thead th {\n",
       "        text-align: right;\n",
       "    }\n",
       "</style>\n",
       "<table border=\"1\" class=\"dataframe\">\n",
       "  <thead>\n",
       "    <tr style=\"text-align: right;\">\n",
       "      <th></th>\n",
       "      <th>Survived</th>\n",
       "      <th>Pclass</th>\n",
       "      <th>Sex</th>\n",
       "      <th>Age</th>\n",
       "      <th>SibSp</th>\n",
       "      <th>Parch</th>\n",
       "      <th>Fare</th>\n",
       "      <th>num_family</th>\n",
       "      <th>numeric_ticket</th>\n",
       "      <th>Is_Alone</th>\n",
       "    </tr>\n",
       "    <tr>\n",
       "      <th>Age_bins</th>\n",
       "      <th></th>\n",
       "      <th></th>\n",
       "      <th></th>\n",
       "      <th></th>\n",
       "      <th></th>\n",
       "      <th></th>\n",
       "      <th></th>\n",
       "      <th></th>\n",
       "      <th></th>\n",
       "      <th></th>\n",
       "    </tr>\n",
       "  </thead>\n",
       "  <tbody>\n",
       "    <tr>\n",
       "      <th>&lt;19</th>\n",
       "      <td>0.481707</td>\n",
       "      <td>2.530488</td>\n",
       "      <td>0.542683</td>\n",
       "      <td>11.945122</td>\n",
       "      <td>1.115854</td>\n",
       "      <td>0.823171</td>\n",
       "      <td>31.794741</td>\n",
       "      <td>2.939024</td>\n",
       "      <td>0.780488</td>\n",
       "      <td>0.329268</td>\n",
       "    </tr>\n",
       "    <tr>\n",
       "      <th>19-23</th>\n",
       "      <td>0.410256</td>\n",
       "      <td>2.621795</td>\n",
       "      <td>0.461538</td>\n",
       "      <td>22.141026</td>\n",
       "      <td>0.519231</td>\n",
       "      <td>0.320513</td>\n",
       "      <td>26.672489</td>\n",
       "      <td>1.839744</td>\n",
       "      <td>0.692308</td>\n",
       "      <td>0.666667</td>\n",
       "    </tr>\n",
       "    <tr>\n",
       "      <th>24-25</th>\n",
       "      <td>0.155556</td>\n",
       "      <td>2.859259</td>\n",
       "      <td>0.925926</td>\n",
       "      <td>25.829630</td>\n",
       "      <td>0.488889</td>\n",
       "      <td>0.162963</td>\n",
       "      <td>16.455924</td>\n",
       "      <td>1.651852</td>\n",
       "      <td>0.792593</td>\n",
       "      <td>0.748148</td>\n",
       "    </tr>\n",
       "    <tr>\n",
       "      <th>26-31</th>\n",
       "      <td>0.414286</td>\n",
       "      <td>2.292857</td>\n",
       "      <td>0.678571</td>\n",
       "      <td>29.464286</td>\n",
       "      <td>0.271429</td>\n",
       "      <td>0.157143</td>\n",
       "      <td>24.920027</td>\n",
       "      <td>1.428571</td>\n",
       "      <td>0.757143</td>\n",
       "      <td>0.707143</td>\n",
       "    </tr>\n",
       "    <tr>\n",
       "      <th>32-40</th>\n",
       "      <td>0.435065</td>\n",
       "      <td>1.837662</td>\n",
       "      <td>0.636364</td>\n",
       "      <td>36.987013</td>\n",
       "      <td>0.337662</td>\n",
       "      <td>0.422078</td>\n",
       "      <td>48.928514</td>\n",
       "      <td>1.759740</td>\n",
       "      <td>0.714286</td>\n",
       "      <td>0.603896</td>\n",
       "    </tr>\n",
       "    <tr>\n",
       "      <th>41-80</th>\n",
       "      <td>0.373239</td>\n",
       "      <td>1.711268</td>\n",
       "      <td>0.690141</td>\n",
       "      <td>51.626761</td>\n",
       "      <td>0.323944</td>\n",
       "      <td>0.323944</td>\n",
       "      <td>42.770132</td>\n",
       "      <td>1.647887</td>\n",
       "      <td>0.718310</td>\n",
       "      <td>0.605634</td>\n",
       "    </tr>\n",
       "  </tbody>\n",
       "</table>\n",
       "</div>"
      ],
      "text/plain": [
       "          Survived    Pclass       Sex        Age     SibSp     Parch  \\\n",
       "Age_bins                                                                \n",
       "<19       0.481707  2.530488  0.542683  11.945122  1.115854  0.823171   \n",
       "19-23     0.410256  2.621795  0.461538  22.141026  0.519231  0.320513   \n",
       "24-25     0.155556  2.859259  0.925926  25.829630  0.488889  0.162963   \n",
       "26-31     0.414286  2.292857  0.678571  29.464286  0.271429  0.157143   \n",
       "32-40     0.435065  1.837662  0.636364  36.987013  0.337662  0.422078   \n",
       "41-80     0.373239  1.711268  0.690141  51.626761  0.323944  0.323944   \n",
       "\n",
       "               Fare  num_family  numeric_ticket  Is_Alone  \n",
       "Age_bins                                                   \n",
       "<19       31.794741    2.939024        0.780488  0.329268  \n",
       "19-23     26.672489    1.839744        0.692308  0.666667  \n",
       "24-25     16.455924    1.651852        0.792593  0.748148  \n",
       "26-31     24.920027    1.428571        0.757143  0.707143  \n",
       "32-40     48.928514    1.759740        0.714286  0.603896  \n",
       "41-80     42.770132    1.647887        0.718310  0.605634  "
      ]
     },
     "execution_count": 29,
     "metadata": {},
     "output_type": "execute_result"
    }
   ],
   "source": [
    "df_train.groupby(\"Age_bins\").mean()"
   ]
  },
  {
   "cell_type": "markdown",
   "id": "controlled-league",
   "metadata": {
    "papermill": {
     "duration": 0.064821,
     "end_time": "2021-06-01T23:13:53.062529",
     "exception": false,
     "start_time": "2021-06-01T23:13:52.997708",
     "status": "completed"
    },
    "tags": []
   },
   "source": [
    "**Conclusion 2: from the previous tables we can cleary see why those aged 24 - 25 were the least likely to survive**\n",
    "1. They were entirely males (93% of this age band were males)\n",
    "2. They were the most disadvantaged (They paid the lowest Fare)\n",
    "3. They had many siblings and other family members on board.\n",
    "\n",
    "**Here are the possiblities:**\n",
    "1. It seems that they sacrificed themselves to rescue other.\n",
    "2. Being disadvanteged and poor, they are least probable to have had access to survival equipments such as life-jackets for example.\n",
    "3. Analyzing the second table suggests that bieng rich is the most important determinant of survival\n",
    "\n",
    "**From the previous tables, we noticed that those with numerical tickets were most likely to be youthful disadvanteged males with low odds of survival, lets invisitage it further**"
   ]
  },
  {
   "cell_type": "code",
   "execution_count": 30,
   "id": "magnetic-logic",
   "metadata": {
    "execution": {
     "iopub.execute_input": "2021-06-01T23:13:53.195871Z",
     "iopub.status.busy": "2021-06-01T23:13:53.195223Z",
     "iopub.status.idle": "2021-06-01T23:13:53.341818Z",
     "shell.execute_reply": "2021-06-01T23:13:53.342300Z"
    },
    "papermill": {
     "duration": 0.214375,
     "end_time": "2021-06-01T23:13:53.342490",
     "exception": false,
     "start_time": "2021-06-01T23:13:53.128115",
     "status": "completed"
    },
    "tags": []
   },
   "outputs": [
    {
     "data": {
      "image/png": "[encoded data removed]",
      "text/plain": [
       "<Figure size 800x400 with 1 Axes>"
      ]
     },
     "metadata": {
      "needs_background": "light"
     },
     "output_type": "display_data"
    }
   ],
   "source": [
    "plt.figure(figsize = (8, 4), dpi = 100)\n",
    "sns.barplot(data = df_train, x = \"numeric_ticket\", y = \"Survived\", ci = None)\n",
    "plt.title(\"Distribution of survivors by numeric_ticket\")\n",
    "plt.show()"
   ]
  },
  {
   "cell_type": "code",
   "execution_count": 31,
   "id": "smooth-smith",
   "metadata": {
    "execution": {
     "iopub.execute_input": "2021-06-01T23:13:53.476716Z",
     "iopub.status.busy": "2021-06-01T23:13:53.476080Z",
     "iopub.status.idle": "2021-06-01T23:13:53.493683Z",
     "shell.execute_reply": "2021-06-01T23:13:53.493118Z"
    },
    "papermill": {
     "duration": 0.085714,
     "end_time": "2021-06-01T23:13:53.493828",
     "exception": false,
     "start_time": "2021-06-01T23:13:53.408114",
     "status": "completed"
    },
    "tags": []
   },
   "outputs": [
    {
     "data": {
      "text/html": [
       "<div>\n",
       "<style scoped>\n",
       "    .dataframe tbody tr th:only-of-type {\n",
       "        vertical-align: middle;\n",
       "    }\n",
       "\n",
       "    .dataframe tbody tr th {\n",
       "        vertical-align: top;\n",
       "    }\n",
       "\n",
       "    .dataframe thead th {\n",
       "        text-align: right;\n",
       "    }\n",
       "</style>\n",
       "<table border=\"1\" class=\"dataframe\">\n",
       "  <thead>\n",
       "    <tr style=\"text-align: right;\">\n",
       "      <th></th>\n",
       "      <th>Survived</th>\n",
       "      <th>Pclass</th>\n",
       "      <th>Sex</th>\n",
       "      <th>Age</th>\n",
       "      <th>SibSp</th>\n",
       "      <th>Parch</th>\n",
       "      <th>Fare</th>\n",
       "      <th>num_family</th>\n",
       "      <th>Is_Alone</th>\n",
       "    </tr>\n",
       "    <tr>\n",
       "      <th>numeric_ticket</th>\n",
       "      <th></th>\n",
       "      <th></th>\n",
       "      <th></th>\n",
       "      <th></th>\n",
       "      <th></th>\n",
       "      <th></th>\n",
       "      <th></th>\n",
       "      <th></th>\n",
       "      <th></th>\n",
       "    </tr>\n",
       "  </thead>\n",
       "  <tbody>\n",
       "    <tr>\n",
       "      <th>0</th>\n",
       "      <td>0.382609</td>\n",
       "      <td>2.195652</td>\n",
       "      <td>0.673913</td>\n",
       "      <td>30.156522</td>\n",
       "      <td>0.673913</td>\n",
       "      <td>0.430435</td>\n",
       "      <td>46.784456</td>\n",
       "      <td>2.104348</td>\n",
       "      <td>0.600000</td>\n",
       "    </tr>\n",
       "    <tr>\n",
       "      <th>1</th>\n",
       "      <td>0.384266</td>\n",
       "      <td>2.347958</td>\n",
       "      <td>0.638427</td>\n",
       "      <td>28.919818</td>\n",
       "      <td>0.470499</td>\n",
       "      <td>0.364599</td>\n",
       "      <td>27.130899</td>\n",
       "      <td>1.835098</td>\n",
       "      <td>0.603631</td>\n",
       "    </tr>\n",
       "  </tbody>\n",
       "</table>\n",
       "</div>"
      ],
      "text/plain": [
       "                Survived    Pclass       Sex        Age     SibSp     Parch  \\\n",
       "numeric_ticket                                                                \n",
       "0               0.382609  2.195652  0.673913  30.156522  0.673913  0.430435   \n",
       "1               0.384266  2.347958  0.638427  28.919818  0.470499  0.364599   \n",
       "\n",
       "                     Fare  num_family  Is_Alone  \n",
       "numeric_ticket                                   \n",
       "0               46.784456    2.104348  0.600000  \n",
       "1               27.130899    1.835098  0.603631  "
      ]
     },
     "execution_count": 31,
     "metadata": {},
     "output_type": "execute_result"
    }
   ],
   "source": [
    "df_train.groupby(\"numeric_ticket\").mean()"
   ]
  },
  {
   "cell_type": "code",
   "execution_count": 32,
   "id": "connected-married",
   "metadata": {
    "execution": {
     "iopub.execute_input": "2021-06-01T23:13:53.629850Z",
     "iopub.status.busy": "2021-06-01T23:13:53.629151Z",
     "iopub.status.idle": "2021-06-01T23:13:53.665441Z",
     "shell.execute_reply": "2021-06-01T23:13:53.664832Z"
    },
    "papermill": {
     "duration": 0.105632,
     "end_time": "2021-06-01T23:13:53.665611",
     "exception": false,
     "start_time": "2021-06-01T23:13:53.559979",
     "status": "completed"
    },
    "tags": []
   },
   "outputs": [
    {
     "data": {
      "text/html": [
       "<div>\n",
       "<style scoped>\n",
       "    .dataframe tbody tr th:only-of-type {\n",
       "        vertical-align: middle;\n",
       "    }\n",
       "\n",
       "    .dataframe tbody tr th {\n",
       "        vertical-align: top;\n",
       "    }\n",
       "\n",
       "    .dataframe thead th {\n",
       "        text-align: right;\n",
       "    }\n",
       "</style>\n",
       "<table border=\"1\" class=\"dataframe\">\n",
       "  <thead>\n",
       "    <tr style=\"text-align: right;\">\n",
       "      <th></th>\n",
       "      <th>% of Survivor</th>\n",
       "      <th>N</th>\n",
       "      <th>Mean Fare</th>\n",
       "    </tr>\n",
       "  </thead>\n",
       "  <tbody>\n",
       "    <tr>\n",
       "      <th>fcc</th>\n",
       "      <td>80.0</td>\n",
       "      <td>5</td>\n",
       "      <td>22.0</td>\n",
       "    </tr>\n",
       "    <tr>\n",
       "      <th>scah</th>\n",
       "      <td>67.0</td>\n",
       "      <td>3</td>\n",
       "      <td>22.0</td>\n",
       "    </tr>\n",
       "    <tr>\n",
       "      <th>pp</th>\n",
       "      <td>67.0</td>\n",
       "      <td>3</td>\n",
       "      <td>14.0</td>\n",
       "    </tr>\n",
       "    <tr>\n",
       "      <th>pc</th>\n",
       "      <td>65.0</td>\n",
       "      <td>60</td>\n",
       "      <td>122.0</td>\n",
       "    </tr>\n",
       "    <tr>\n",
       "      <th>stono2</th>\n",
       "      <td>50.0</td>\n",
       "      <td>6</td>\n",
       "      <td>11.0</td>\n",
       "    </tr>\n",
       "    <tr>\n",
       "      <th>scparis</th>\n",
       "      <td>45.0</td>\n",
       "      <td>11</td>\n",
       "      <td>27.0</td>\n",
       "    </tr>\n",
       "    <tr>\n",
       "      <th>stono</th>\n",
       "      <td>42.0</td>\n",
       "      <td>12</td>\n",
       "      <td>8.0</td>\n",
       "    </tr>\n",
       "    <tr>\n",
       "      <th>c</th>\n",
       "      <td>40.0</td>\n",
       "      <td>5</td>\n",
       "      <td>10.0</td>\n",
       "    </tr>\n",
       "    <tr>\n",
       "      <th>0</th>\n",
       "      <td>38.0</td>\n",
       "      <td>665</td>\n",
       "      <td>27.0</td>\n",
       "    </tr>\n",
       "    <tr>\n",
       "      <th>ca</th>\n",
       "      <td>34.0</td>\n",
       "      <td>41</td>\n",
       "      <td>31.0</td>\n",
       "    </tr>\n",
       "    <tr>\n",
       "      <th>wep</th>\n",
       "      <td>33.0</td>\n",
       "      <td>3</td>\n",
       "      <td>68.0</td>\n",
       "    </tr>\n",
       "    <tr>\n",
       "      <th>other</th>\n",
       "      <td>27.0</td>\n",
       "      <td>15</td>\n",
       "      <td>14.0</td>\n",
       "    </tr>\n",
       "    <tr>\n",
       "      <th>soc</th>\n",
       "      <td>17.0</td>\n",
       "      <td>6</td>\n",
       "      <td>63.0</td>\n",
       "    </tr>\n",
       "    <tr>\n",
       "      <th>sotonoq</th>\n",
       "      <td>13.0</td>\n",
       "      <td>15</td>\n",
       "      <td>8.0</td>\n",
       "    </tr>\n",
       "    <tr>\n",
       "      <th>wc</th>\n",
       "      <td>10.0</td>\n",
       "      <td>10</td>\n",
       "      <td>22.0</td>\n",
       "    </tr>\n",
       "    <tr>\n",
       "      <th>a5</th>\n",
       "      <td>10.0</td>\n",
       "      <td>21</td>\n",
       "      <td>9.0</td>\n",
       "    </tr>\n",
       "    <tr>\n",
       "      <th>a4</th>\n",
       "      <td>0.0</td>\n",
       "      <td>7</td>\n",
       "      <td>12.0</td>\n",
       "    </tr>\n",
       "    <tr>\n",
       "      <th>sopp</th>\n",
       "      <td>0.0</td>\n",
       "      <td>3</td>\n",
       "      <td>10.0</td>\n",
       "    </tr>\n",
       "  </tbody>\n",
       "</table>\n",
       "</div>"
      ],
      "text/plain": [
       "         % of Survivor    N  Mean Fare\n",
       "fcc               80.0    5       22.0\n",
       "scah              67.0    3       22.0\n",
       "pp                67.0    3       14.0\n",
       "pc                65.0   60      122.0\n",
       "stono2            50.0    6       11.0\n",
       "scparis           45.0   11       27.0\n",
       "stono             42.0   12        8.0\n",
       "c                 40.0    5       10.0\n",
       "0                 38.0  665       27.0\n",
       "ca                34.0   41       31.0\n",
       "wep               33.0    3       68.0\n",
       "other             27.0   15       14.0\n",
       "soc               17.0    6       63.0\n",
       "sotonoq           13.0   15        8.0\n",
       "wc                10.0   10       22.0\n",
       "a5                10.0   21        9.0\n",
       "a4                 0.0    7       12.0\n",
       "sopp               0.0    3       10.0"
      ]
     },
     "execution_count": 32,
     "metadata": {},
     "output_type": "execute_result"
    }
   ],
   "source": [
    "Tic_Sur = round(pd.pivot_table(data = df_train, index = \"Ticket_Text\", values = \"Survived\").sort_values(by = \"Survived\", ascending = False) * 100, 0)\n",
    "Fare_Sur = round(pd.pivot_table(data = df_train, index = \"Ticket_Text\", values = \"Fare\"), 0)\n",
    "Tic_Sur_count = df_train.Ticket_Text.value_counts()\n",
    "Tic_Sur_count = pd.DataFrame(Tic_Sur_count)\n",
    "Ticket_Text_Survival = pd.concat([Tic_Sur, Tic_Sur_count, Fare_Sur], axis = 1)\n",
    "Ticket_Text_Survival.columns = [\"% of Survivor\", \"N\", \"Mean Fare\"]\n",
    "Ticket_Text_Survival"
   ]
  },
  {
   "cell_type": "code",
   "execution_count": 33,
   "id": "criminal-scenario",
   "metadata": {
    "execution": {
     "iopub.execute_input": "2021-06-01T23:13:53.846837Z",
     "iopub.status.busy": "2021-06-01T23:13:53.832320Z",
     "iopub.status.idle": "2021-06-01T23:13:54.074657Z",
     "shell.execute_reply": "2021-06-01T23:13:54.073952Z"
    },
    "papermill": {
     "duration": 0.341364,
     "end_time": "2021-06-01T23:13:54.074807",
     "exception": false,
     "start_time": "2021-06-01T23:13:53.733443",
     "status": "completed"
    },
    "tags": []
   },
   "outputs": [
    {
     "data": {
      "image/png": "[encoded data removed]",
      "text/plain": [
       "<Figure size 800x400 with 1 Axes>"
      ]
     },
     "metadata": {
      "needs_background": "light"
     },
     "output_type": "display_data"
    }
   ],
   "source": [
    "plt.figure(figsize = (8, 4), dpi = 100)\n",
    "sns.barplot(data = Ticket_Text_Survival, x = Ticket_Text_Survival.index, y = Ticket_Text_Survival[\"% of Survivor\"], ci = None)\n",
    "plt.title(\"Distribution of survivors by Ticket_Text\")\n",
    "plt.xticks(rotation = 90)\n",
    "plt.show()"
   ]
  },
  {
   "cell_type": "markdown",
   "id": "charitable-butler",
   "metadata": {
    "papermill": {
     "duration": 0.068436,
     "end_time": "2021-06-01T23:13:54.212197",
     "exception": false,
     "start_time": "2021-06-01T23:13:54.143761",
     "status": "completed"
    },
    "tags": []
   },
   "source": [
    "**Conclusion 3:** It turns out that our first impresion was somehow incorrect. Whether the ticket has text on it or not has no impact on survival. But it does have correlation with Fare and Age as we previously expected. Morover, when we look at the distribution of survivors by text wrote on each ticket we immediatly see a strong correlation.\n",
    "\n",
    "**Now lets see if having family relatives on board affects survival**"
   ]
  },
  {
   "cell_type": "code",
   "execution_count": 34,
   "id": "bronze-hearing",
   "metadata": {
    "execution": {
     "iopub.execute_input": "2021-06-01T23:13:54.360713Z",
     "iopub.status.busy": "2021-06-01T23:13:54.359873Z",
     "iopub.status.idle": "2021-06-01T23:13:54.364389Z",
     "shell.execute_reply": "2021-06-01T23:13:54.363675Z"
    },
    "papermill": {
     "duration": 0.081391,
     "end_time": "2021-06-01T23:13:54.364555",
     "exception": false,
     "start_time": "2021-06-01T23:13:54.283164",
     "status": "completed"
    },
    "tags": []
   },
   "outputs": [
    {
     "data": {
      "text/plain": [
       "1    537\n",
       "0    354\n",
       "Name: Is_Alone, dtype: int64"
      ]
     },
     "execution_count": 34,
     "metadata": {},
     "output_type": "execute_result"
    }
   ],
   "source": [
    "df_train.Is_Alone.value_counts()"
   ]
  },
  {
   "cell_type": "markdown",
   "id": "detailed-athens",
   "metadata": {
    "papermill": {
     "duration": 0.069959,
     "end_time": "2021-06-01T23:13:54.504278",
     "exception": false,
     "start_time": "2021-06-01T23:13:54.434319",
     "status": "completed"
    },
    "tags": []
   },
   "source": [
    "- **537 passengers have no family relatives on board**"
   ]
  },
  {
   "cell_type": "code",
   "execution_count": 35,
   "id": "homeless-precipitation",
   "metadata": {
    "execution": {
     "iopub.execute_input": "2021-06-01T23:13:54.656700Z",
     "iopub.status.busy": "2021-06-01T23:13:54.655632Z",
     "iopub.status.idle": "2021-06-01T23:13:54.780768Z",
     "shell.execute_reply": "2021-06-01T23:13:54.781260Z"
    },
    "papermill": {
     "duration": 0.208542,
     "end_time": "2021-06-01T23:13:54.781448",
     "exception": false,
     "start_time": "2021-06-01T23:13:54.572906",
     "status": "completed"
    },
    "tags": []
   },
   "outputs": [
    {
     "data": {
      "image/png": "[encoded data removed]",
      "text/plain": [
       "<Figure size 800x400 with 1 Axes>"
      ]
     },
     "metadata": {
      "needs_background": "light"
     },
     "output_type": "display_data"
    }
   ],
   "source": [
    "plt.figure(figsize = (8, 4), dpi = 100)\n",
    "sns.barplot(data = df_train, x = \"Is_Alone\", y = \"Survived\", ci = None)\n",
    "plt.title(\"Distribution of survivors by Is_Alone\")\n",
    "plt.show()"
   ]
  },
  {
   "cell_type": "code",
   "execution_count": 36,
   "id": "affected-preview",
   "metadata": {
    "execution": {
     "iopub.execute_input": "2021-06-01T23:13:54.939297Z",
     "iopub.status.busy": "2021-06-01T23:13:54.928811Z",
     "iopub.status.idle": "2021-06-01T23:13:54.944706Z",
     "shell.execute_reply": "2021-06-01T23:13:54.944138Z"
    },
    "papermill": {
     "duration": 0.093721,
     "end_time": "2021-06-01T23:13:54.944848",
     "exception": false,
     "start_time": "2021-06-01T23:13:54.851127",
     "status": "completed"
    },
    "tags": []
   },
   "outputs": [
    {
     "data": {
      "text/html": [
       "<div>\n",
       "<style scoped>\n",
       "    .dataframe tbody tr th:only-of-type {\n",
       "        vertical-align: middle;\n",
       "    }\n",
       "\n",
       "    .dataframe tbody tr th {\n",
       "        vertical-align: top;\n",
       "    }\n",
       "\n",
       "    .dataframe thead th {\n",
       "        text-align: right;\n",
       "    }\n",
       "</style>\n",
       "<table border=\"1\" class=\"dataframe\">\n",
       "  <thead>\n",
       "    <tr style=\"text-align: right;\">\n",
       "      <th></th>\n",
       "      <th>Survived</th>\n",
       "      <th>Pclass</th>\n",
       "      <th>Sex</th>\n",
       "      <th>Age</th>\n",
       "      <th>SibSp</th>\n",
       "      <th>Parch</th>\n",
       "      <th>Fare</th>\n",
       "      <th>num_family</th>\n",
       "      <th>numeric_ticket</th>\n",
       "    </tr>\n",
       "    <tr>\n",
       "      <th>Is_Alone</th>\n",
       "      <th></th>\n",
       "      <th></th>\n",
       "      <th></th>\n",
       "      <th></th>\n",
       "      <th></th>\n",
       "      <th></th>\n",
       "      <th></th>\n",
       "      <th></th>\n",
       "      <th></th>\n",
       "    </tr>\n",
       "  </thead>\n",
       "  <tbody>\n",
       "    <tr>\n",
       "      <th>0</th>\n",
       "      <td>0.505650</td>\n",
       "      <td>2.169492</td>\n",
       "      <td>0.468927</td>\n",
       "      <td>26.274011</td>\n",
       "      <td>1.316384</td>\n",
       "      <td>0.960452</td>\n",
       "      <td>48.832275</td>\n",
       "      <td>3.276836</td>\n",
       "      <td>0.740113</td>\n",
       "    </tr>\n",
       "    <tr>\n",
       "      <th>1</th>\n",
       "      <td>0.303538</td>\n",
       "      <td>2.400372</td>\n",
       "      <td>0.765363</td>\n",
       "      <td>31.193669</td>\n",
       "      <td>0.000000</td>\n",
       "      <td>0.000000</td>\n",
       "      <td>21.242689</td>\n",
       "      <td>1.000000</td>\n",
       "      <td>0.743017</td>\n",
       "    </tr>\n",
       "  </tbody>\n",
       "</table>\n",
       "</div>"
      ],
      "text/plain": [
       "          Survived    Pclass       Sex        Age     SibSp     Parch  \\\n",
       "Is_Alone                                                                \n",
       "0         0.505650  2.169492  0.468927  26.274011  1.316384  0.960452   \n",
       "1         0.303538  2.400372  0.765363  31.193669  0.000000  0.000000   \n",
       "\n",
       "               Fare  num_family  numeric_ticket  \n",
       "Is_Alone                                         \n",
       "0         48.832275    3.276836        0.740113  \n",
       "1         21.242689    1.000000        0.743017  "
      ]
     },
     "execution_count": 36,
     "metadata": {},
     "output_type": "execute_result"
    }
   ],
   "source": [
    "df_train.groupby(\"Is_Alone\").mean()"
   ]
  },
  {
   "cell_type": "markdown",
   "id": "dependent-wright",
   "metadata": {
    "papermill": {
     "duration": 0.071246,
     "end_time": "2021-06-01T23:13:55.089424",
     "exception": false,
     "start_time": "2021-06-01T23:13:55.018178",
     "status": "completed"
    },
    "tags": []
   },
   "source": [
    "**Conclusion 4:** Unexpectedly, Those who are alone are less likely to survive compared to those who are not alone. This is might be due to the fact that they are older and less well-off.\n",
    "\n",
    "**Lets now if males have higher survival rate than females?**"
   ]
  },
  {
   "cell_type": "code",
   "execution_count": 37,
   "id": "urban-australian",
   "metadata": {
    "execution": {
     "iopub.execute_input": "2021-06-01T23:13:55.242671Z",
     "iopub.status.busy": "2021-06-01T23:13:55.241948Z",
     "iopub.status.idle": "2021-06-01T23:13:55.245325Z",
     "shell.execute_reply": "2021-06-01T23:13:55.244661Z"
    },
    "papermill": {
     "duration": 0.084999,
     "end_time": "2021-06-01T23:13:55.245479",
     "exception": false,
     "start_time": "2021-06-01T23:13:55.160480",
     "status": "completed"
    },
    "tags": []
   },
   "outputs": [],
   "source": [
    "# Rename the sex variable to prevent any misconciption\n",
    "df_train = df_train.rename(columns = {\"Sex\": \"Is_Male\"})\n",
    "df_test = df_test.rename(columns = {\"Sex\": \"Is_Male\"})"
   ]
  },
  {
   "cell_type": "code",
   "execution_count": 38,
   "id": "ordered-accused",
   "metadata": {
    "execution": {
     "iopub.execute_input": "2021-06-01T23:13:55.397463Z",
     "iopub.status.busy": "2021-06-01T23:13:55.396763Z",
     "iopub.status.idle": "2021-06-01T23:13:55.531565Z",
     "shell.execute_reply": "2021-06-01T23:13:55.532168Z"
    },
    "papermill": {
     "duration": 0.214307,
     "end_time": "2021-06-01T23:13:55.532354",
     "exception": false,
     "start_time": "2021-06-01T23:13:55.318047",
     "status": "completed"
    },
    "tags": []
   },
   "outputs": [
    {
     "data": {
      "image/png": "[encoded data removed]",
      "text/plain": [
       "<Figure size 800x400 with 1 Axes>"
      ]
     },
     "metadata": {
      "needs_background": "light"
     },
     "output_type": "display_data"
    }
   ],
   "source": [
    "plt.figure(figsize = (8, 4), dpi = 100)\n",
    "sns.barplot(data = df_train, x = \"Is_Male\", y = \"Survived\", ci = None)\n",
    "plt.title(\"Distribution of survivors by Is_Male\")\n",
    "plt.show()"
   ]
  },
  {
   "cell_type": "code",
   "execution_count": 39,
   "id": "marine-third",
   "metadata": {
    "execution": {
     "iopub.execute_input": "2021-06-01T23:13:55.695524Z",
     "iopub.status.busy": "2021-06-01T23:13:55.690001Z",
     "iopub.status.idle": "2021-06-01T23:13:55.700195Z",
     "shell.execute_reply": "2021-06-01T23:13:55.699524Z"
    },
    "papermill": {
     "duration": 0.096298,
     "end_time": "2021-06-01T23:13:55.700369",
     "exception": false,
     "start_time": "2021-06-01T23:13:55.604071",
     "status": "completed"
    },
    "tags": []
   },
   "outputs": [
    {
     "data": {
      "text/html": [
       "<div>\n",
       "<style scoped>\n",
       "    .dataframe tbody tr th:only-of-type {\n",
       "        vertical-align: middle;\n",
       "    }\n",
       "\n",
       "    .dataframe tbody tr th {\n",
       "        vertical-align: top;\n",
       "    }\n",
       "\n",
       "    .dataframe thead th {\n",
       "        text-align: right;\n",
       "    }\n",
       "</style>\n",
       "<table border=\"1\" class=\"dataframe\">\n",
       "  <thead>\n",
       "    <tr style=\"text-align: right;\">\n",
       "      <th></th>\n",
       "      <th>Survived</th>\n",
       "      <th>Pclass</th>\n",
       "      <th>Age</th>\n",
       "      <th>SibSp</th>\n",
       "      <th>Parch</th>\n",
       "      <th>Fare</th>\n",
       "      <th>num_family</th>\n",
       "      <th>numeric_ticket</th>\n",
       "      <th>Is_Alone</th>\n",
       "    </tr>\n",
       "    <tr>\n",
       "      <th>Is_Male</th>\n",
       "      <th></th>\n",
       "      <th></th>\n",
       "      <th></th>\n",
       "      <th></th>\n",
       "      <th></th>\n",
       "      <th></th>\n",
       "      <th></th>\n",
       "      <th></th>\n",
       "      <th></th>\n",
       "    </tr>\n",
       "  </thead>\n",
       "  <tbody>\n",
       "    <tr>\n",
       "      <th>0</th>\n",
       "      <td>0.742038</td>\n",
       "      <td>2.159236</td>\n",
       "      <td>27.289809</td>\n",
       "      <td>0.694268</td>\n",
       "      <td>0.649682</td>\n",
       "      <td>44.479818</td>\n",
       "      <td>2.343949</td>\n",
       "      <td>0.761146</td>\n",
       "      <td>0.401274</td>\n",
       "    </tr>\n",
       "    <tr>\n",
       "      <th>1</th>\n",
       "      <td>0.188908</td>\n",
       "      <td>2.389948</td>\n",
       "      <td>30.299827</td>\n",
       "      <td>0.429809</td>\n",
       "      <td>0.235702</td>\n",
       "      <td>25.523893</td>\n",
       "      <td>1.665511</td>\n",
       "      <td>0.731369</td>\n",
       "      <td>0.712305</td>\n",
       "    </tr>\n",
       "  </tbody>\n",
       "</table>\n",
       "</div>"
      ],
      "text/plain": [
       "         Survived    Pclass        Age     SibSp     Parch       Fare  \\\n",
       "Is_Male                                                                 \n",
       "0        0.742038  2.159236  27.289809  0.694268  0.649682  44.479818   \n",
       "1        0.188908  2.389948  30.299827  0.429809  0.235702  25.523893   \n",
       "\n",
       "         num_family  numeric_ticket  Is_Alone  \n",
       "Is_Male                                        \n",
       "0          2.343949        0.761146  0.401274  \n",
       "1          1.665511        0.731369  0.712305  "
      ]
     },
     "execution_count": 39,
     "metadata": {},
     "output_type": "execute_result"
    }
   ],
   "source": [
    "df_train.groupby(\"Is_Male\").mean()"
   ]
  },
  {
   "cell_type": "code",
   "execution_count": 40,
   "id": "cordless-gateway",
   "metadata": {
    "execution": {
     "iopub.execute_input": "2021-06-01T23:13:55.858309Z",
     "iopub.status.busy": "2021-06-01T23:13:55.857318Z",
     "iopub.status.idle": "2021-06-01T23:13:55.881418Z",
     "shell.execute_reply": "2021-06-01T23:13:55.880709Z"
    },
    "papermill": {
     "duration": 0.108863,
     "end_time": "2021-06-01T23:13:55.881570",
     "exception": false,
     "start_time": "2021-06-01T23:13:55.772707",
     "status": "completed"
    },
    "tags": []
   },
   "outputs": [
    {
     "data": {
      "text/html": [
       "<div>\n",
       "<style scoped>\n",
       "    .dataframe tbody tr th:only-of-type {\n",
       "        vertical-align: middle;\n",
       "    }\n",
       "\n",
       "    .dataframe tbody tr th {\n",
       "        vertical-align: top;\n",
       "    }\n",
       "\n",
       "    .dataframe thead th {\n",
       "        text-align: right;\n",
       "    }\n",
       "</style>\n",
       "<table border=\"1\" class=\"dataframe\">\n",
       "  <thead>\n",
       "    <tr style=\"text-align: right;\">\n",
       "      <th></th>\n",
       "      <th></th>\n",
       "      <th>Age</th>\n",
       "      <th>Fare</th>\n",
       "      <th>Is_Alone</th>\n",
       "      <th>Survived</th>\n",
       "    </tr>\n",
       "    <tr>\n",
       "      <th>Is_Male</th>\n",
       "      <th>Pclass</th>\n",
       "      <th></th>\n",
       "      <th></th>\n",
       "      <th></th>\n",
       "      <th></th>\n",
       "    </tr>\n",
       "  </thead>\n",
       "  <tbody>\n",
       "    <tr>\n",
       "      <th rowspan=\"3\" valign=\"top\">0</th>\n",
       "      <th>1</th>\n",
       "      <td>34.553191</td>\n",
       "      <td>106.125798</td>\n",
       "      <td>0.361702</td>\n",
       "      <td>0.968085</td>\n",
       "    </tr>\n",
       "    <tr>\n",
       "      <th>2</th>\n",
       "      <td>28.697368</td>\n",
       "      <td>21.970121</td>\n",
       "      <td>0.421053</td>\n",
       "      <td>0.921053</td>\n",
       "    </tr>\n",
       "    <tr>\n",
       "      <th>3</th>\n",
       "      <td>21.805556</td>\n",
       "      <td>16.118810</td>\n",
       "      <td>0.416667</td>\n",
       "      <td>0.500000</td>\n",
       "    </tr>\n",
       "    <tr>\n",
       "      <th rowspan=\"3\" valign=\"top\">1</th>\n",
       "      <th>1</th>\n",
       "      <td>41.221311</td>\n",
       "      <td>67.226127</td>\n",
       "      <td>0.614754</td>\n",
       "      <td>0.368852</td>\n",
       "    </tr>\n",
       "    <tr>\n",
       "      <th>2</th>\n",
       "      <td>30.648148</td>\n",
       "      <td>19.741782</td>\n",
       "      <td>0.666667</td>\n",
       "      <td>0.157407</td>\n",
       "    </tr>\n",
       "    <tr>\n",
       "      <th>3</th>\n",
       "      <td>26.351585</td>\n",
       "      <td>12.661633</td>\n",
       "      <td>0.760807</td>\n",
       "      <td>0.135447</td>\n",
       "    </tr>\n",
       "  </tbody>\n",
       "</table>\n",
       "</div>"
      ],
      "text/plain": [
       "                      Age        Fare  Is_Alone  Survived\n",
       "Is_Male Pclass                                           \n",
       "0       1       34.553191  106.125798  0.361702  0.968085\n",
       "        2       28.697368   21.970121  0.421053  0.921053\n",
       "        3       21.805556   16.118810  0.416667  0.500000\n",
       "1       1       41.221311   67.226127  0.614754  0.368852\n",
       "        2       30.648148   19.741782  0.666667  0.157407\n",
       "        3       26.351585   12.661633  0.760807  0.135447"
      ]
     },
     "execution_count": 40,
     "metadata": {},
     "output_type": "execute_result"
    }
   ],
   "source": [
    "pd.pivot_table(data = df_train, index = [\"Is_Male\", \"Pclass\"], values =[\"Survived\", \"Age\", \"Fare\", \"Is_Alone\"])"
   ]
  },
  {
   "cell_type": "code",
   "execution_count": 41,
   "id": "chronic-plaintiff",
   "metadata": {
    "execution": {
     "iopub.execute_input": "2021-06-01T23:13:56.037199Z",
     "iopub.status.busy": "2021-06-01T23:13:56.036375Z",
     "iopub.status.idle": "2021-06-01T23:13:56.078758Z",
     "shell.execute_reply": "2021-06-01T23:13:56.078131Z"
    },
    "papermill": {
     "duration": 0.122104,
     "end_time": "2021-06-01T23:13:56.078925",
     "exception": false,
     "start_time": "2021-06-01T23:13:55.956821",
     "status": "completed"
    },
    "tags": []
   },
   "outputs": [
    {
     "data": {
      "text/html": [
       "<div>\n",
       "<style scoped>\n",
       "    .dataframe tbody tr th:only-of-type {\n",
       "        vertical-align: middle;\n",
       "    }\n",
       "\n",
       "    .dataframe tbody tr th {\n",
       "        vertical-align: top;\n",
       "    }\n",
       "\n",
       "    .dataframe thead th {\n",
       "        text-align: right;\n",
       "    }\n",
       "</style>\n",
       "<table border=\"1\" class=\"dataframe\">\n",
       "  <thead>\n",
       "    <tr style=\"text-align: right;\">\n",
       "      <th></th>\n",
       "      <th>Age_bins</th>\n",
       "      <th>&lt;19</th>\n",
       "      <th>19-23</th>\n",
       "      <th>24-25</th>\n",
       "      <th>26-31</th>\n",
       "      <th>32-40</th>\n",
       "      <th>41-80</th>\n",
       "    </tr>\n",
       "    <tr>\n",
       "      <th>Is_Male</th>\n",
       "      <th>Pclass</th>\n",
       "      <th></th>\n",
       "      <th></th>\n",
       "      <th></th>\n",
       "      <th></th>\n",
       "      <th></th>\n",
       "      <th></th>\n",
       "    </tr>\n",
       "  </thead>\n",
       "  <tbody>\n",
       "    <tr>\n",
       "      <th rowspan=\"3\" valign=\"top\">0</th>\n",
       "      <th>1</th>\n",
       "      <td>0.928571</td>\n",
       "      <td>1.000000</td>\n",
       "      <td>0.500000</td>\n",
       "      <td>1.000000</td>\n",
       "      <td>1.000000</td>\n",
       "      <td>0.960000</td>\n",
       "    </tr>\n",
       "    <tr>\n",
       "      <th>2</th>\n",
       "      <td>1.000000</td>\n",
       "      <td>0.909091</td>\n",
       "      <td>0.666667</td>\n",
       "      <td>0.947368</td>\n",
       "      <td>0.933333</td>\n",
       "      <td>0.833333</td>\n",
       "    </tr>\n",
       "    <tr>\n",
       "      <th>3</th>\n",
       "      <td>0.533333</td>\n",
       "      <td>0.566667</td>\n",
       "      <td>0.400000</td>\n",
       "      <td>0.411765</td>\n",
       "      <td>0.400000</td>\n",
       "      <td>0.142857</td>\n",
       "    </tr>\n",
       "    <tr>\n",
       "      <th rowspan=\"3\" valign=\"top\">1</th>\n",
       "      <th>1</th>\n",
       "      <td>0.571429</td>\n",
       "      <td>0.200000</td>\n",
       "      <td>1.000000</td>\n",
       "      <td>0.466667</td>\n",
       "      <td>0.380952</td>\n",
       "      <td>0.280000</td>\n",
       "    </tr>\n",
       "    <tr>\n",
       "      <th>2</th>\n",
       "      <td>0.526316</td>\n",
       "      <td>0.000000</td>\n",
       "      <td>0.000000</td>\n",
       "      <td>0.125000</td>\n",
       "      <td>0.055556</td>\n",
       "      <td>0.095238</td>\n",
       "    </tr>\n",
       "    <tr>\n",
       "      <th>3</th>\n",
       "      <td>0.190476</td>\n",
       "      <td>0.109091</td>\n",
       "      <td>0.112069</td>\n",
       "      <td>0.270833</td>\n",
       "      <td>0.026316</td>\n",
       "      <td>0.074074</td>\n",
       "    </tr>\n",
       "  </tbody>\n",
       "</table>\n",
       "</div>"
      ],
      "text/plain": [
       "Age_bins             <19     19-23     24-25     26-31     32-40     41-80\n",
       "Is_Male Pclass                                                            \n",
       "0       1       0.928571  1.000000  0.500000  1.000000  1.000000  0.960000\n",
       "        2       1.000000  0.909091  0.666667  0.947368  0.933333  0.833333\n",
       "        3       0.533333  0.566667  0.400000  0.411765  0.400000  0.142857\n",
       "1       1       0.571429  0.200000  1.000000  0.466667  0.380952  0.280000\n",
       "        2       0.526316  0.000000  0.000000  0.125000  0.055556  0.095238\n",
       "        3       0.190476  0.109091  0.112069  0.270833  0.026316  0.074074"
      ]
     },
     "execution_count": 41,
     "metadata": {},
     "output_type": "execute_result"
    }
   ],
   "source": [
    "pd.pivot_table(data = df_train, index = [\"Is_Male\", \"Pclass\"], values = \"Survived\", columns = \"Age_bins\")"
   ]
  },
  {
   "cell_type": "markdown",
   "id": "applied-offense",
   "metadata": {
    "papermill": {
     "duration": 0.081676,
     "end_time": "2021-06-01T23:13:56.237767",
     "exception": false,
     "start_time": "2021-06-01T23:13:56.156091",
     "status": "completed"
    },
    "tags": []
   },
   "source": [
    "**Conclusion 5:** Regardless to the Ticket Class and Age, Females have higher rates of survival than males.\n",
    "\n",
    "**Lets now explore the impact of Titles no Survival**"
   ]
  },
  {
   "cell_type": "code",
   "execution_count": 42,
   "id": "maritime-explosion",
   "metadata": {
    "execution": {
     "iopub.execute_input": "2021-06-01T23:13:56.432317Z",
     "iopub.status.busy": "2021-06-01T23:13:56.403175Z",
     "iopub.status.idle": "2021-06-01T23:13:56.594772Z",
     "shell.execute_reply": "2021-06-01T23:13:56.593922Z"
    },
    "papermill": {
     "duration": 0.2805,
     "end_time": "2021-06-01T23:13:56.594930",
     "exception": false,
     "start_time": "2021-06-01T23:13:56.314430",
     "status": "completed"
    },
    "tags": []
   },
   "outputs": [
    {
     "data": {
      "image/png": "[encoded data removed]",
      "text/plain": [
       "<Figure size 800x400 with 1 Axes>"
      ]
     },
     "metadata": {
      "needs_background": "light"
     },
     "output_type": "display_data"
    }
   ],
   "source": [
    "Tit_Sur = pd.pivot_table(data = df_train, index = \"Title\", values = \"Survived\").sort_values(by = \"Survived\", ascending = False)\n",
    "plt.figure(figsize = (8, 4), dpi = 100)\n",
    "sns.barplot(data = df_train, x = Tit_Sur.index, y = Tit_Sur.Survived, ci = None)\n",
    "plt.title(\"Distribution of survivors by Is_Alone\")\n",
    "plt.show()"
   ]
  },
  {
   "cell_type": "code",
   "execution_count": 43,
   "id": "persistent-farmer",
   "metadata": {
    "execution": {
     "iopub.execute_input": "2021-06-01T23:13:56.752043Z",
     "iopub.status.busy": "2021-06-01T23:13:56.751281Z",
     "iopub.status.idle": "2021-06-01T23:13:56.771254Z",
     "shell.execute_reply": "2021-06-01T23:13:56.770607Z"
    },
    "papermill": {
     "duration": 0.102107,
     "end_time": "2021-06-01T23:13:56.771404",
     "exception": false,
     "start_time": "2021-06-01T23:13:56.669297",
     "status": "completed"
    },
    "tags": []
   },
   "outputs": [
    {
     "data": {
      "text/html": [
       "<div>\n",
       "<style scoped>\n",
       "    .dataframe tbody tr th:only-of-type {\n",
       "        vertical-align: middle;\n",
       "    }\n",
       "\n",
       "    .dataframe tbody tr th {\n",
       "        vertical-align: top;\n",
       "    }\n",
       "\n",
       "    .dataframe thead th {\n",
       "        text-align: right;\n",
       "    }\n",
       "</style>\n",
       "<table border=\"1\" class=\"dataframe\">\n",
       "  <thead>\n",
       "    <tr style=\"text-align: right;\">\n",
       "      <th></th>\n",
       "      <th>Age</th>\n",
       "      <th>Fare</th>\n",
       "      <th>Is_Alone</th>\n",
       "      <th>Survived</th>\n",
       "    </tr>\n",
       "    <tr>\n",
       "      <th>Title</th>\n",
       "      <th></th>\n",
       "      <th></th>\n",
       "      <th></th>\n",
       "      <th></th>\n",
       "    </tr>\n",
       "  </thead>\n",
       "  <tbody>\n",
       "    <tr>\n",
       "      <th>Mrs</th>\n",
       "      <td>34.776000</td>\n",
       "      <td>45.138533</td>\n",
       "      <td>0.160000</td>\n",
       "      <td>0.792000</td>\n",
       "    </tr>\n",
       "    <tr>\n",
       "      <th>Miss</th>\n",
       "      <td>21.934066</td>\n",
       "      <td>43.797873</td>\n",
       "      <td>0.549451</td>\n",
       "      <td>0.697802</td>\n",
       "    </tr>\n",
       "    <tr>\n",
       "      <th>Other</th>\n",
       "      <td>42.214286</td>\n",
       "      <td>42.996729</td>\n",
       "      <td>0.785714</td>\n",
       "      <td>0.642857</td>\n",
       "    </tr>\n",
       "    <tr>\n",
       "      <th>Master</th>\n",
       "      <td>6.625000</td>\n",
       "      <td>34.703125</td>\n",
       "      <td>0.000000</td>\n",
       "      <td>0.575000</td>\n",
       "    </tr>\n",
       "    <tr>\n",
       "      <th>Dr</th>\n",
       "      <td>41.857143</td>\n",
       "      <td>49.168457</td>\n",
       "      <td>0.714286</td>\n",
       "      <td>0.428571</td>\n",
       "    </tr>\n",
       "    <tr>\n",
       "      <th>Mr</th>\n",
       "      <td>31.537718</td>\n",
       "      <td>24.441560</td>\n",
       "      <td>0.767892</td>\n",
       "      <td>0.156673</td>\n",
       "    </tr>\n",
       "    <tr>\n",
       "      <th>Rev</th>\n",
       "      <td>43.166667</td>\n",
       "      <td>18.312500</td>\n",
       "      <td>0.666667</td>\n",
       "      <td>0.000000</td>\n",
       "    </tr>\n",
       "  </tbody>\n",
       "</table>\n",
       "</div>"
      ],
      "text/plain": [
       "              Age       Fare  Is_Alone  Survived\n",
       "Title                                           \n",
       "Mrs     34.776000  45.138533  0.160000  0.792000\n",
       "Miss    21.934066  43.797873  0.549451  0.697802\n",
       "Other   42.214286  42.996729  0.785714  0.642857\n",
       "Master   6.625000  34.703125  0.000000  0.575000\n",
       "Dr      41.857143  49.168457  0.714286  0.428571\n",
       "Mr      31.537718  24.441560  0.767892  0.156673\n",
       "Rev     43.166667  18.312500  0.666667  0.000000"
      ]
     },
     "execution_count": 43,
     "metadata": {},
     "output_type": "execute_result"
    }
   ],
   "source": [
    "pd.pivot_table(data = df_train, index = \"Title\", values = [\"Survived\", \"Age\", \"Fare\", \"Is_Alone\"]).sort_values(\"Survived\", ascending = False)"
   ]
  },
  {
   "cell_type": "markdown",
   "id": "fancy-recorder",
   "metadata": {
    "papermill": {
     "duration": 0.083308,
     "end_time": "2021-06-01T23:13:56.955128",
     "exception": false,
     "start_time": "2021-06-01T23:13:56.871820",
     "status": "completed"
    },
    "tags": []
   },
   "source": [
    "**Conclusion 6:** Regardless to the Ticket Class and Age, Miss and Mrs have higher rates of survival than other titles."
   ]
  },
  {
   "cell_type": "markdown",
   "id": "ethical-immune",
   "metadata": {
    "papermill": {
     "duration": 0.090129,
     "end_time": "2021-06-01T23:13:57.131650",
     "exception": false,
     "start_time": "2021-06-01T23:13:57.041521",
     "status": "completed"
    },
    "tags": []
   },
   "source": [
    "### Lets now have have a look at the statistical distribution for each feature "
   ]
  },
  {
   "cell_type": "code",
   "execution_count": 44,
   "id": "loving-trademark",
   "metadata": {
    "execution": {
     "iopub.execute_input": "2021-06-01T23:13:57.295456Z",
     "iopub.status.busy": "2021-06-01T23:13:57.294763Z",
     "iopub.status.idle": "2021-06-01T23:13:57.319047Z",
     "shell.execute_reply": "2021-06-01T23:13:57.318465Z"
    },
    "papermill": {
     "duration": 0.107978,
     "end_time": "2021-06-01T23:13:57.319199",
     "exception": false,
     "start_time": "2021-06-01T23:13:57.211221",
     "status": "completed"
    },
    "tags": []
   },
   "outputs": [
    {
     "data": {
      "text/html": [
       "<div>\n",
       "<style scoped>\n",
       "    .dataframe tbody tr th:only-of-type {\n",
       "        vertical-align: middle;\n",
       "    }\n",
       "\n",
       "    .dataframe tbody tr th {\n",
       "        vertical-align: top;\n",
       "    }\n",
       "\n",
       "    .dataframe thead th {\n",
       "        text-align: right;\n",
       "    }\n",
       "</style>\n",
       "<table border=\"1\" class=\"dataframe\">\n",
       "  <thead>\n",
       "    <tr style=\"text-align: right;\">\n",
       "      <th></th>\n",
       "      <th>Survived</th>\n",
       "      <th>Pclass</th>\n",
       "      <th>Is_Male</th>\n",
       "      <th>Age</th>\n",
       "      <th>SibSp</th>\n",
       "      <th>Parch</th>\n",
       "      <th>Fare</th>\n",
       "      <th>num_family</th>\n",
       "      <th>numeric_ticket</th>\n",
       "      <th>Is_Alone</th>\n",
       "    </tr>\n",
       "  </thead>\n",
       "  <tbody>\n",
       "    <tr>\n",
       "      <th>Survived</th>\n",
       "      <td>1.000000</td>\n",
       "      <td>-0.338481</td>\n",
       "      <td>-0.543351</td>\n",
       "      <td>-0.065132</td>\n",
       "      <td>-0.035322</td>\n",
       "      <td>0.081629</td>\n",
       "      <td>0.257307</td>\n",
       "      <td>0.016639</td>\n",
       "      <td>0.001492</td>\n",
       "      <td>-0.203367</td>\n",
       "    </tr>\n",
       "    <tr>\n",
       "      <th>Pclass</th>\n",
       "      <td>-0.338481</td>\n",
       "      <td>1.000000</td>\n",
       "      <td>0.131900</td>\n",
       "      <td>-0.408012</td>\n",
       "      <td>0.083081</td>\n",
       "      <td>0.018443</td>\n",
       "      <td>-0.549500</td>\n",
       "      <td>0.065997</td>\n",
       "      <td>0.079763</td>\n",
       "      <td>0.135207</td>\n",
       "    </tr>\n",
       "    <tr>\n",
       "      <th>Is_Male</th>\n",
       "      <td>-0.543351</td>\n",
       "      <td>0.131900</td>\n",
       "      <td>1.000000</td>\n",
       "      <td>0.108290</td>\n",
       "      <td>-0.114631</td>\n",
       "      <td>-0.245489</td>\n",
       "      <td>-0.182333</td>\n",
       "      <td>-0.200988</td>\n",
       "      <td>-0.032507</td>\n",
       "      <td>0.303646</td>\n",
       "    </tr>\n",
       "    <tr>\n",
       "      <th>Age</th>\n",
       "      <td>-0.065132</td>\n",
       "      <td>-0.408012</td>\n",
       "      <td>0.108290</td>\n",
       "      <td>1.000000</td>\n",
       "      <td>-0.250191</td>\n",
       "      <td>-0.179016</td>\n",
       "      <td>0.119313</td>\n",
       "      <td>-0.260430</td>\n",
       "      <td>-0.040756</td>\n",
       "      <td>0.181296</td>\n",
       "    </tr>\n",
       "    <tr>\n",
       "      <th>SibSp</th>\n",
       "      <td>-0.035322</td>\n",
       "      <td>0.083081</td>\n",
       "      <td>-0.114631</td>\n",
       "      <td>-0.250191</td>\n",
       "      <td>1.000000</td>\n",
       "      <td>0.414838</td>\n",
       "      <td>0.159651</td>\n",
       "      <td>0.890712</td>\n",
       "      <td>-0.080768</td>\n",
       "      <td>-0.584471</td>\n",
       "    </tr>\n",
       "    <tr>\n",
       "      <th>Parch</th>\n",
       "      <td>0.081629</td>\n",
       "      <td>0.018443</td>\n",
       "      <td>-0.245489</td>\n",
       "      <td>-0.179016</td>\n",
       "      <td>0.414838</td>\n",
       "      <td>1.000000</td>\n",
       "      <td>0.216225</td>\n",
       "      <td>0.783111</td>\n",
       "      <td>-0.035762</td>\n",
       "      <td>-0.583398</td>\n",
       "    </tr>\n",
       "    <tr>\n",
       "      <th>Fare</th>\n",
       "      <td>0.257307</td>\n",
       "      <td>-0.549500</td>\n",
       "      <td>-0.182333</td>\n",
       "      <td>0.119313</td>\n",
       "      <td>0.159651</td>\n",
       "      <td>0.216225</td>\n",
       "      <td>1.000000</td>\n",
       "      <td>0.217138</td>\n",
       "      <td>-0.173170</td>\n",
       "      <td>-0.271832</td>\n",
       "    </tr>\n",
       "    <tr>\n",
       "      <th>num_family</th>\n",
       "      <td>0.016639</td>\n",
       "      <td>0.065997</td>\n",
       "      <td>-0.200988</td>\n",
       "      <td>-0.260430</td>\n",
       "      <td>0.890712</td>\n",
       "      <td>0.783111</td>\n",
       "      <td>0.217138</td>\n",
       "      <td>1.000000</td>\n",
       "      <td>-0.073068</td>\n",
       "      <td>-0.690922</td>\n",
       "    </tr>\n",
       "    <tr>\n",
       "      <th>numeric_ticket</th>\n",
       "      <td>0.001492</td>\n",
       "      <td>0.079763</td>\n",
       "      <td>-0.032507</td>\n",
       "      <td>-0.040756</td>\n",
       "      <td>-0.080768</td>\n",
       "      <td>-0.035762</td>\n",
       "      <td>-0.173170</td>\n",
       "      <td>-0.073068</td>\n",
       "      <td>1.000000</td>\n",
       "      <td>0.003247</td>\n",
       "    </tr>\n",
       "    <tr>\n",
       "      <th>Is_Alone</th>\n",
       "      <td>-0.203367</td>\n",
       "      <td>0.135207</td>\n",
       "      <td>0.303646</td>\n",
       "      <td>0.181296</td>\n",
       "      <td>-0.584471</td>\n",
       "      <td>-0.583398</td>\n",
       "      <td>-0.271832</td>\n",
       "      <td>-0.690922</td>\n",
       "      <td>0.003247</td>\n",
       "      <td>1.000000</td>\n",
       "    </tr>\n",
       "  </tbody>\n",
       "</table>\n",
       "</div>"
      ],
      "text/plain": [
       "                Survived    Pclass   Is_Male       Age     SibSp     Parch  \\\n",
       "Survived        1.000000 -0.338481 -0.543351 -0.065132 -0.035322  0.081629   \n",
       "Pclass         -0.338481  1.000000  0.131900 -0.408012  0.083081  0.018443   \n",
       "Is_Male        -0.543351  0.131900  1.000000  0.108290 -0.114631 -0.245489   \n",
       "Age            -0.065132 -0.408012  0.108290  1.000000 -0.250191 -0.179016   \n",
       "SibSp          -0.035322  0.083081 -0.114631 -0.250191  1.000000  0.414838   \n",
       "Parch           0.081629  0.018443 -0.245489 -0.179016  0.414838  1.000000   \n",
       "Fare            0.257307 -0.549500 -0.182333  0.119313  0.159651  0.216225   \n",
       "num_family      0.016639  0.065997 -0.200988 -0.260430  0.890712  0.783111   \n",
       "numeric_ticket  0.001492  0.079763 -0.032507 -0.040756 -0.080768 -0.035762   \n",
       "Is_Alone       -0.203367  0.135207  0.303646  0.181296 -0.584471 -0.583398   \n",
       "\n",
       "                    Fare  num_family  numeric_ticket  Is_Alone  \n",
       "Survived        0.257307    0.016639        0.001492 -0.203367  \n",
       "Pclass         -0.549500    0.065997        0.079763  0.135207  \n",
       "Is_Male        -0.182333   -0.200988       -0.032507  0.303646  \n",
       "Age             0.119313   -0.260430       -0.040756  0.181296  \n",
       "SibSp           0.159651    0.890712       -0.080768 -0.584471  \n",
       "Parch           0.216225    0.783111       -0.035762 -0.583398  \n",
       "Fare            1.000000    0.217138       -0.173170 -0.271832  \n",
       "num_family      0.217138    1.000000       -0.073068 -0.690922  \n",
       "numeric_ticket -0.173170   -0.073068        1.000000  0.003247  \n",
       "Is_Alone       -0.271832   -0.690922        0.003247  1.000000  "
      ]
     },
     "execution_count": 44,
     "metadata": {},
     "output_type": "execute_result"
    }
   ],
   "source": [
    "df_train.corr()"
   ]
  },
  {
   "cell_type": "code",
   "execution_count": 45,
   "id": "lesser-whale",
   "metadata": {
    "execution": {
     "iopub.execute_input": "2021-06-01T23:13:57.497225Z",
     "iopub.status.busy": "2021-06-01T23:13:57.496067Z",
     "iopub.status.idle": "2021-06-01T23:13:58.235409Z",
     "shell.execute_reply": "2021-06-01T23:13:58.234832Z"
    },
    "papermill": {
     "duration": 0.83337,
     "end_time": "2021-06-01T23:13:58.235629",
     "exception": false,
     "start_time": "2021-06-01T23:13:57.402259",
     "status": "completed"
    },
    "tags": []
   },
   "outputs": [
    {
     "data": {
      "image/png": "[encoded data removed]",
      "text/plain": [
       "<Figure size 1200x500 with 2 Axes>"
      ]
     },
     "metadata": {
      "needs_background": "light"
     },
     "output_type": "display_data"
    }
   ],
   "source": [
    "plt.figure(figsize = (12, 5), dpi = 100)\n",
    "sns.heatmap(round(df_train.corr(), 1), annot = True, cmap = \"viridis\", annot_kws={\"fontsize\":10})\n",
    "plt.show()"
   ]
  },
  {
   "cell_type": "code",
   "execution_count": 46,
   "id": "supreme-intermediate",
   "metadata": {
    "execution": {
     "iopub.execute_input": "2021-06-01T23:13:58.408554Z",
     "iopub.status.busy": "2021-06-01T23:13:58.407408Z",
     "iopub.status.idle": "2021-06-01T23:14:22.898118Z",
     "shell.execute_reply": "2021-06-01T23:14:22.898646Z"
    },
    "papermill": {
     "duration": 24.581663,
     "end_time": "2021-06-01T23:14:22.898826",
     "exception": false,
     "start_time": "2021-06-01T23:13:58.317163",
     "status": "completed"
    },
    "tags": []
   },
   "outputs": [
    {
     "data": {
      "image/png": "[encoded data removed]",
      "text/plain": [
       "<Figure size 1671.88x1620 with 90 Axes>"
      ]
     },
     "metadata": {
      "needs_background": "light"
     },
     "output_type": "display_data"
    }
   ],
   "source": [
    "pairplot_data = df_train[['Survived', 'Pclass', 'Is_Male', 'Age', 'SibSp', 'Parch', 'Fare', 'num_family', 'numeric_ticket', 'Is_Alone']]\n",
    "sns.pairplot(pairplot_data, diag_kind = \"kde\", hue = \"Survived\")\n",
    "plt.show()"
   ]
  },
  {
   "cell_type": "code",
   "execution_count": 47,
   "id": "martial-mount",
   "metadata": {
    "execution": {
     "iopub.execute_input": "2021-06-01T23:14:23.081829Z",
     "iopub.status.busy": "2021-06-01T23:14:23.080809Z",
     "iopub.status.idle": "2021-06-01T23:14:23.084021Z",
     "shell.execute_reply": "2021-06-01T23:14:23.083417Z"
    },
    "papermill": {
     "duration": 0.096405,
     "end_time": "2021-06-01T23:14:23.084168",
     "exception": false,
     "start_time": "2021-06-01T23:14:22.987763",
     "status": "completed"
    },
    "tags": []
   },
   "outputs": [],
   "source": [
    "#cols = ['Pclass', 'Is_Male', 'Age', 'SibSp', 'Parch', 'Fare', 'num_family', 'numeric_ticket', 'Is_Alone']\n",
    "#for col in cols:\n",
    "    #plt.figure(figsize = (8, 4), dpi = 100)\n",
    "    #sns.kdeplot(data = df_train, x= col, hue = \"Survived\")"
   ]
  },
  {
   "cell_type": "markdown",
   "id": "auburn-football",
   "metadata": {
    "papermill": {
     "duration": 0.090234,
     "end_time": "2021-06-01T23:14:23.267730",
     "exception": false,
     "start_time": "2021-06-01T23:14:23.177496",
     "status": "completed"
    },
    "tags": []
   },
   "source": [
    "### 4. Model Training, Validation, and Prediction"
   ]
  },
  {
   "cell_type": "code",
   "execution_count": 48,
   "id": "geological-benjamin",
   "metadata": {
    "execution": {
     "iopub.execute_input": "2021-06-01T23:14:23.449674Z",
     "iopub.status.busy": "2021-06-01T23:14:23.448879Z",
     "iopub.status.idle": "2021-06-01T23:14:23.471117Z",
     "shell.execute_reply": "2021-06-01T23:14:23.471719Z"
    },
    "papermill": {
     "duration": 0.114953,
     "end_time": "2021-06-01T23:14:23.471916",
     "exception": false,
     "start_time": "2021-06-01T23:14:23.356963",
     "status": "completed"
    },
    "tags": []
   },
   "outputs": [
    {
     "data": {
      "text/html": [
       "<div>\n",
       "<style scoped>\n",
       "    .dataframe tbody tr th:only-of-type {\n",
       "        vertical-align: middle;\n",
       "    }\n",
       "\n",
       "    .dataframe tbody tr th {\n",
       "        vertical-align: top;\n",
       "    }\n",
       "\n",
       "    .dataframe thead th {\n",
       "        text-align: right;\n",
       "    }\n",
       "</style>\n",
       "<table border=\"1\" class=\"dataframe\">\n",
       "  <thead>\n",
       "    <tr style=\"text-align: right;\">\n",
       "      <th></th>\n",
       "      <th>PassengerId</th>\n",
       "      <th>Survived</th>\n",
       "      <th>Pclass</th>\n",
       "      <th>Name</th>\n",
       "      <th>Is_Male</th>\n",
       "      <th>Age</th>\n",
       "      <th>SibSp</th>\n",
       "      <th>Parch</th>\n",
       "      <th>Ticket</th>\n",
       "      <th>Fare</th>\n",
       "      <th>Embarked</th>\n",
       "      <th>num_family</th>\n",
       "      <th>Title</th>\n",
       "      <th>numeric_ticket</th>\n",
       "      <th>Ticket_Text</th>\n",
       "      <th>Is_Alone</th>\n",
       "      <th>Age_bins</th>\n",
       "      <th>Fare_bins</th>\n",
       "    </tr>\n",
       "  </thead>\n",
       "  <tbody>\n",
       "    <tr>\n",
       "      <th>0</th>\n",
       "      <td>1</td>\n",
       "      <td>0</td>\n",
       "      <td>3</td>\n",
       "      <td>Braund, Mr. Owen Harris</td>\n",
       "      <td>1</td>\n",
       "      <td>22</td>\n",
       "      <td>1</td>\n",
       "      <td>0</td>\n",
       "      <td>A/5 21171</td>\n",
       "      <td>7.2500</td>\n",
       "      <td>S</td>\n",
       "      <td>2</td>\n",
       "      <td>Mr</td>\n",
       "      <td>0</td>\n",
       "      <td>a5</td>\n",
       "      <td>0</td>\n",
       "      <td>19-23</td>\n",
       "      <td>&lt;7</td>\n",
       "    </tr>\n",
       "    <tr>\n",
       "      <th>1</th>\n",
       "      <td>2</td>\n",
       "      <td>1</td>\n",
       "      <td>1</td>\n",
       "      <td>Cumings, Mrs. John Bradley (Florence Briggs Th...</td>\n",
       "      <td>0</td>\n",
       "      <td>38</td>\n",
       "      <td>1</td>\n",
       "      <td>0</td>\n",
       "      <td>PC 17599</td>\n",
       "      <td>71.2833</td>\n",
       "      <td>C</td>\n",
       "      <td>2</td>\n",
       "      <td>Mrs</td>\n",
       "      <td>0</td>\n",
       "      <td>pc</td>\n",
       "      <td>0</td>\n",
       "      <td>32-40</td>\n",
       "      <td>52-512</td>\n",
       "    </tr>\n",
       "    <tr>\n",
       "      <th>2</th>\n",
       "      <td>3</td>\n",
       "      <td>1</td>\n",
       "      <td>3</td>\n",
       "      <td>Heikkinen, Miss. Laina</td>\n",
       "      <td>0</td>\n",
       "      <td>26</td>\n",
       "      <td>0</td>\n",
       "      <td>0</td>\n",
       "      <td>STON/O2. 3101282</td>\n",
       "      <td>7.9250</td>\n",
       "      <td>S</td>\n",
       "      <td>1</td>\n",
       "      <td>Miss</td>\n",
       "      <td>0</td>\n",
       "      <td>stono2</td>\n",
       "      <td>1</td>\n",
       "      <td>24-25</td>\n",
       "      <td>7-8.5</td>\n",
       "    </tr>\n",
       "    <tr>\n",
       "      <th>3</th>\n",
       "      <td>4</td>\n",
       "      <td>1</td>\n",
       "      <td>1</td>\n",
       "      <td>Futrelle, Mrs. Jacques Heath (Lily May Peel)</td>\n",
       "      <td>0</td>\n",
       "      <td>35</td>\n",
       "      <td>1</td>\n",
       "      <td>0</td>\n",
       "      <td>113803</td>\n",
       "      <td>53.1000</td>\n",
       "      <td>S</td>\n",
       "      <td>2</td>\n",
       "      <td>Mrs</td>\n",
       "      <td>1</td>\n",
       "      <td>0</td>\n",
       "      <td>0</td>\n",
       "      <td>32-40</td>\n",
       "      <td>52-512</td>\n",
       "    </tr>\n",
       "    <tr>\n",
       "      <th>4</th>\n",
       "      <td>5</td>\n",
       "      <td>0</td>\n",
       "      <td>3</td>\n",
       "      <td>Allen, Mr. William Henry</td>\n",
       "      <td>1</td>\n",
       "      <td>35</td>\n",
       "      <td>0</td>\n",
       "      <td>0</td>\n",
       "      <td>373450</td>\n",
       "      <td>8.0500</td>\n",
       "      <td>S</td>\n",
       "      <td>1</td>\n",
       "      <td>Mr</td>\n",
       "      <td>1</td>\n",
       "      <td>0</td>\n",
       "      <td>1</td>\n",
       "      <td>32-40</td>\n",
       "      <td>7-8.5</td>\n",
       "    </tr>\n",
       "  </tbody>\n",
       "</table>\n",
       "</div>"
      ],
      "text/plain": [
       "  PassengerId  Survived  Pclass  \\\n",
       "0           1         0       3   \n",
       "1           2         1       1   \n",
       "2           3         1       3   \n",
       "3           4         1       1   \n",
       "4           5         0       3   \n",
       "\n",
       "                                                Name  Is_Male  Age  SibSp  \\\n",
       "0                            Braund, Mr. Owen Harris        1   22      1   \n",
       "1  Cumings, Mrs. John Bradley (Florence Briggs Th...        0   38      1   \n",
       "2                             Heikkinen, Miss. Laina        0   26      0   \n",
       "3       Futrelle, Mrs. Jacques Heath (Lily May Peel)        0   35      1   \n",
       "4                           Allen, Mr. William Henry        1   35      0   \n",
       "\n",
       "   Parch            Ticket     Fare Embarked  num_family Title  \\\n",
       "0      0         A/5 21171   7.2500        S           2    Mr   \n",
       "1      0          PC 17599  71.2833        C           2   Mrs   \n",
       "2      0  STON/O2. 3101282   7.9250        S           1  Miss   \n",
       "3      0            113803  53.1000        S           2   Mrs   \n",
       "4      0            373450   8.0500        S           1    Mr   \n",
       "\n",
       "   numeric_ticket Ticket_Text  Is_Alone Age_bins Fare_bins  \n",
       "0               0          a5         0    19-23        <7  \n",
       "1               0          pc         0    32-40    52-512  \n",
       "2               0      stono2         1    24-25     7-8.5  \n",
       "3               1           0         0    32-40    52-512  \n",
       "4               1           0         1    32-40     7-8.5  "
      ]
     },
     "execution_count": 48,
     "metadata": {},
     "output_type": "execute_result"
    }
   ],
   "source": [
    "df_train.head()"
   ]
  },
  {
   "cell_type": "code",
   "execution_count": 49,
   "id": "accepted-uncertainty",
   "metadata": {
    "execution": {
     "iopub.execute_input": "2021-06-01T23:14:23.656902Z",
     "iopub.status.busy": "2021-06-01T23:14:23.656152Z",
     "iopub.status.idle": "2021-06-01T23:14:23.664032Z",
     "shell.execute_reply": "2021-06-01T23:14:23.664568Z"
    },
    "papermill": {
     "duration": 0.101085,
     "end_time": "2021-06-01T23:14:23.664803",
     "exception": false,
     "start_time": "2021-06-01T23:14:23.563718",
     "status": "completed"
    },
    "tags": []
   },
   "outputs": [],
   "source": [
    "## dropping unnecessairy features for model training\n",
    "df_train = df_train.drop([\"Name\", \"Ticket\", \"Fare\", \"Age\"], axis = 1)\n",
    "df_test = df_test.drop([\"Name\", \"Ticket\", \"Fare\", \"Age\"], axis = 1)"
   ]
  },
  {
   "cell_type": "code",
   "execution_count": 50,
   "id": "conditional-training",
   "metadata": {
    "execution": {
     "iopub.execute_input": "2021-06-01T23:14:23.847283Z",
     "iopub.status.busy": "2021-06-01T23:14:23.846629Z",
     "iopub.status.idle": "2021-06-01T23:14:23.853248Z",
     "shell.execute_reply": "2021-06-01T23:14:23.853803Z"
    },
    "papermill": {
     "duration": 0.099829,
     "end_time": "2021-06-01T23:14:23.853983",
     "exception": false,
     "start_time": "2021-06-01T23:14:23.754154",
     "status": "completed"
    },
    "tags": []
   },
   "outputs": [],
   "source": [
    "# dropping repetitive features\n",
    "df_train = df_train.drop([\"SibSp\", \"Parch\", \"num_family\"], axis = 1)\n",
    "df_test = df_test.drop([\"SibSp\", \"Parch\", \"num_family\"], axis = 1)"
   ]
  },
  {
   "cell_type": "code",
   "execution_count": 51,
   "id": "helpful-picture",
   "metadata": {
    "execution": {
     "iopub.execute_input": "2021-06-01T23:14:24.040071Z",
     "iopub.status.busy": "2021-06-01T23:14:24.039284Z",
     "iopub.status.idle": "2021-06-01T23:14:24.055951Z",
     "shell.execute_reply": "2021-06-01T23:14:24.055396Z"
    },
    "papermill": {
     "duration": 0.112249,
     "end_time": "2021-06-01T23:14:24.056110",
     "exception": false,
     "start_time": "2021-06-01T23:14:23.943861",
     "status": "completed"
    },
    "tags": []
   },
   "outputs": [
    {
     "data": {
      "text/html": [
       "<div>\n",
       "<style scoped>\n",
       "    .dataframe tbody tr th:only-of-type {\n",
       "        vertical-align: middle;\n",
       "    }\n",
       "\n",
       "    .dataframe tbody tr th {\n",
       "        vertical-align: top;\n",
       "    }\n",
       "\n",
       "    .dataframe thead th {\n",
       "        text-align: right;\n",
       "    }\n",
       "</style>\n",
       "<table border=\"1\" class=\"dataframe\">\n",
       "  <thead>\n",
       "    <tr style=\"text-align: right;\">\n",
       "      <th></th>\n",
       "      <th>PassengerId</th>\n",
       "      <th>Survived</th>\n",
       "      <th>Pclass</th>\n",
       "      <th>Is_Male</th>\n",
       "      <th>Embarked</th>\n",
       "      <th>Title</th>\n",
       "      <th>numeric_ticket</th>\n",
       "      <th>Ticket_Text</th>\n",
       "      <th>Is_Alone</th>\n",
       "      <th>Age_bins</th>\n",
       "      <th>Fare_bins</th>\n",
       "    </tr>\n",
       "  </thead>\n",
       "  <tbody>\n",
       "    <tr>\n",
       "      <th>0</th>\n",
       "      <td>1</td>\n",
       "      <td>0</td>\n",
       "      <td>3</td>\n",
       "      <td>1</td>\n",
       "      <td>S</td>\n",
       "      <td>Mr</td>\n",
       "      <td>0</td>\n",
       "      <td>a5</td>\n",
       "      <td>0</td>\n",
       "      <td>19-23</td>\n",
       "      <td>&lt;7</td>\n",
       "    </tr>\n",
       "    <tr>\n",
       "      <th>1</th>\n",
       "      <td>2</td>\n",
       "      <td>1</td>\n",
       "      <td>1</td>\n",
       "      <td>0</td>\n",
       "      <td>C</td>\n",
       "      <td>Mrs</td>\n",
       "      <td>0</td>\n",
       "      <td>pc</td>\n",
       "      <td>0</td>\n",
       "      <td>32-40</td>\n",
       "      <td>52-512</td>\n",
       "    </tr>\n",
       "    <tr>\n",
       "      <th>2</th>\n",
       "      <td>3</td>\n",
       "      <td>1</td>\n",
       "      <td>3</td>\n",
       "      <td>0</td>\n",
       "      <td>S</td>\n",
       "      <td>Miss</td>\n",
       "      <td>0</td>\n",
       "      <td>stono2</td>\n",
       "      <td>1</td>\n",
       "      <td>24-25</td>\n",
       "      <td>7-8.5</td>\n",
       "    </tr>\n",
       "    <tr>\n",
       "      <th>3</th>\n",
       "      <td>4</td>\n",
       "      <td>1</td>\n",
       "      <td>1</td>\n",
       "      <td>0</td>\n",
       "      <td>S</td>\n",
       "      <td>Mrs</td>\n",
       "      <td>1</td>\n",
       "      <td>0</td>\n",
       "      <td>0</td>\n",
       "      <td>32-40</td>\n",
       "      <td>52-512</td>\n",
       "    </tr>\n",
       "    <tr>\n",
       "      <th>4</th>\n",
       "      <td>5</td>\n",
       "      <td>0</td>\n",
       "      <td>3</td>\n",
       "      <td>1</td>\n",
       "      <td>S</td>\n",
       "      <td>Mr</td>\n",
       "      <td>1</td>\n",
       "      <td>0</td>\n",
       "      <td>1</td>\n",
       "      <td>32-40</td>\n",
       "      <td>7-8.5</td>\n",
       "    </tr>\n",
       "  </tbody>\n",
       "</table>\n",
       "</div>"
      ],
      "text/plain": [
       "  PassengerId  Survived  Pclass  Is_Male Embarked Title  numeric_ticket  \\\n",
       "0           1         0       3        1        S    Mr               0   \n",
       "1           2         1       1        0        C   Mrs               0   \n",
       "2           3         1       3        0        S  Miss               0   \n",
       "3           4         1       1        0        S   Mrs               1   \n",
       "4           5         0       3        1        S    Mr               1   \n",
       "\n",
       "  Ticket_Text  Is_Alone Age_bins Fare_bins  \n",
       "0          a5         0    19-23        <7  \n",
       "1          pc         0    32-40    52-512  \n",
       "2      stono2         1    24-25     7-8.5  \n",
       "3           0         0    32-40    52-512  \n",
       "4           0         1    32-40     7-8.5  "
      ]
     },
     "execution_count": 51,
     "metadata": {},
     "output_type": "execute_result"
    }
   ],
   "source": [
    "df_train.head()"
   ]
  },
  {
   "cell_type": "code",
   "execution_count": 52,
   "id": "constitutional-monaco",
   "metadata": {
    "execution": {
     "iopub.execute_input": "2021-06-01T23:14:24.253420Z",
     "iopub.status.busy": "2021-06-01T23:14:24.252655Z",
     "iopub.status.idle": "2021-06-01T23:14:24.265754Z",
     "shell.execute_reply": "2021-06-01T23:14:24.265167Z"
    },
    "papermill": {
     "duration": 0.116489,
     "end_time": "2021-06-01T23:14:24.265915",
     "exception": false,
     "start_time": "2021-06-01T23:14:24.149426",
     "status": "completed"
    },
    "tags": []
   },
   "outputs": [
    {
     "name": "stdout",
     "output_type": "stream",
     "text": [
      "<class 'pandas.core.frame.DataFrame'>\n",
      "RangeIndex: 891 entries, 0 to 890\n",
      "Data columns (total 11 columns):\n",
      " #   Column          Non-Null Count  Dtype   \n",
      "---  ------          --------------  -----   \n",
      " 0   PassengerId     891 non-null    object  \n",
      " 1   Survived        891 non-null    int64   \n",
      " 2   Pclass          891 non-null    int64   \n",
      " 3   Is_Male         891 non-null    int64   \n",
      " 4   Embarked        891 non-null    object  \n",
      " 5   Title           891 non-null    object  \n",
      " 6   numeric_ticket  891 non-null    int64   \n",
      " 7   Ticket_Text     891 non-null    object  \n",
      " 8   Is_Alone        891 non-null    int64   \n",
      " 9   Age_bins        891 non-null    category\n",
      " 10  Fare_bins       891 non-null    category\n",
      "dtypes: category(2), int64(5), object(4)\n",
      "memory usage: 64.9+ KB\n"
     ]
    }
   ],
   "source": [
    "df_train.info()"
   ]
  },
  {
   "cell_type": "code",
   "execution_count": 53,
   "id": "athletic-indianapolis",
   "metadata": {
    "execution": {
     "iopub.execute_input": "2021-06-01T23:14:24.464295Z",
     "iopub.status.busy": "2021-06-01T23:14:24.463349Z",
     "iopub.status.idle": "2021-06-01T23:14:24.793455Z",
     "shell.execute_reply": "2021-06-01T23:14:24.792769Z"
    },
    "papermill": {
     "duration": 0.434922,
     "end_time": "2021-06-01T23:14:24.793624",
     "exception": false,
     "start_time": "2021-06-01T23:14:24.358702",
     "status": "completed"
    },
    "tags": []
   },
   "outputs": [],
   "source": [
    "#Creating dummy varaibles\n",
    "X = df_train.drop([\"Survived\", \"PassengerId\"], axis = 1)\n",
    "X_dum = pd.get_dummies(X, drop_first = True)\n",
    "df_test_dum = df_test.drop(\"PassengerId\", axis = 1)\n",
    "df_test_dum = pd.get_dummies(df_test, drop_first = True)\n",
    "y = df_train[\"Survived\"]"
   ]
  },
  {
   "cell_type": "code",
   "execution_count": 54,
   "id": "dated-mineral",
   "metadata": {
    "execution": {
     "iopub.execute_input": "2021-06-01T23:14:24.987669Z",
     "iopub.status.busy": "2021-06-01T23:14:24.986881Z",
     "iopub.status.idle": "2021-06-01T23:14:25.300233Z",
     "shell.execute_reply": "2021-06-01T23:14:25.301155Z"
    },
    "papermill": {
     "duration": 0.414081,
     "end_time": "2021-06-01T23:14:25.301352",
     "exception": false,
     "start_time": "2021-06-01T23:14:24.887271",
     "status": "completed"
    },
    "tags": []
   },
   "outputs": [],
   "source": [
    "#Making Sure that training and test data sets have the same columns\n",
    "Train_cols = X_dum.columns\n",
    "test_cols = df_test_dum.columns \n",
    "for col in test_cols:\n",
    "    if col not in Train_cols:\n",
    "        df_test_dum = df_test_dum.drop(col, axis = 1)"
   ]
  },
  {
   "cell_type": "markdown",
   "id": "pleasant-payday",
   "metadata": {
    "papermill": {
     "duration": 0.091891,
     "end_time": "2021-06-01T23:14:25.486898",
     "exception": false,
     "start_time": "2021-06-01T23:14:25.395007",
     "status": "completed"
    },
    "tags": []
   },
   "source": [
    "IF you tried to complete the project without running the preceding cell, you will not be able to complete the upcoming model training parts. You will face an error indicating that the test data set do not have the same collumns as the training data set. The error resulted from wrangling the two data sets in seprate, some variables in the test set had categories that do not exist in the same variable in the training set."
   ]
  },
  {
   "cell_type": "code",
   "execution_count": 55,
   "id": "becoming-bonus",
   "metadata": {
    "execution": {
     "iopub.execute_input": "2021-06-01T23:14:25.678730Z",
     "iopub.status.busy": "2021-06-01T23:14:25.678023Z",
     "iopub.status.idle": "2021-06-01T23:14:25.906108Z",
     "shell.execute_reply": "2021-06-01T23:14:25.905471Z"
    },
    "papermill": {
     "duration": 0.326946,
     "end_time": "2021-06-01T23:14:25.906257",
     "exception": false,
     "start_time": "2021-06-01T23:14:25.579311",
     "status": "completed"
    },
    "tags": []
   },
   "outputs": [],
   "source": [
    "#import cross validation \n",
    "from sklearn.model_selection import cross_val_score"
   ]
  },
  {
   "cell_type": "code",
   "execution_count": 56,
   "id": "invalid-opera",
   "metadata": {
    "execution": {
     "iopub.execute_input": "2021-06-01T23:14:26.103795Z",
     "iopub.status.busy": "2021-06-01T23:14:26.102823Z",
     "iopub.status.idle": "2021-06-01T23:14:26.506437Z",
     "shell.execute_reply": "2021-06-01T23:14:26.507723Z"
    },
    "papermill": {
     "duration": 0.509854,
     "end_time": "2021-06-01T23:14:26.508021",
     "exception": false,
     "start_time": "2021-06-01T23:14:25.998167",
     "status": "completed"
    },
    "tags": []
   },
   "outputs": [
    {
     "data": {
      "text/html": [
       "<div>\n",
       "<style scoped>\n",
       "    .dataframe tbody tr th:only-of-type {\n",
       "        vertical-align: middle;\n",
       "    }\n",
       "\n",
       "    .dataframe tbody tr th {\n",
       "        vertical-align: top;\n",
       "    }\n",
       "\n",
       "    .dataframe thead th {\n",
       "        text-align: right;\n",
       "    }\n",
       "</style>\n",
       "<table border=\"1\" class=\"dataframe\">\n",
       "  <thead>\n",
       "    <tr style=\"text-align: right;\">\n",
       "      <th></th>\n",
       "      <th>acc_score</th>\n",
       "      <th>cv_score</th>\n",
       "    </tr>\n",
       "  </thead>\n",
       "  <tbody>\n",
       "    <tr>\n",
       "      <th>0</th>\n",
       "      <td>83.73</td>\n",
       "      <td>81.26</td>\n",
       "    </tr>\n",
       "  </tbody>\n",
       "</table>\n",
       "</div>"
      ],
      "text/plain": [
       "   acc_score  cv_score\n",
       "0      83.73     81.26"
      ]
     },
     "execution_count": 56,
     "metadata": {},
     "output_type": "execute_result"
    }
   ],
   "source": [
    "#Logestic Regression\n",
    "from sklearn.linear_model import LogisticRegression\n",
    "log_reg = LogisticRegression(max_iter = 2000)\n",
    "\n",
    "#Model Training\n",
    "log_reg.fit(X_dum, y)\n",
    "\n",
    "#Prediction and validation\n",
    "acc_score = round(log_reg.score(X_dum, y) * 100, 2)\n",
    "acc_score\n",
    "\n",
    "#cross validation\n",
    "cv = cross_val_score(log_reg,X_dum,y,cv=5)\n",
    "cv_mean = round(cv.mean() * 100, 2)\n",
    "\n",
    "pd.DataFrame({\"acc_score\": [acc_score], \"cv_score\": [cv_mean]})"
   ]
  },
  {
   "cell_type": "code",
   "execution_count": 57,
   "id": "following-virgin",
   "metadata": {
    "execution": {
     "iopub.execute_input": "2021-06-01T23:14:26.749271Z",
     "iopub.status.busy": "2021-06-01T23:14:26.748526Z",
     "iopub.status.idle": "2021-06-01T23:14:27.003583Z",
     "shell.execute_reply": "2021-06-01T23:14:27.002900Z"
    },
    "papermill": {
     "duration": 0.3559,
     "end_time": "2021-06-01T23:14:27.003750",
     "exception": false,
     "start_time": "2021-06-01T23:14:26.647850",
     "status": "completed"
    },
    "tags": []
   },
   "outputs": [
    {
     "data": {
      "text/html": [
       "<div>\n",
       "<style scoped>\n",
       "    .dataframe tbody tr th:only-of-type {\n",
       "        vertical-align: middle;\n",
       "    }\n",
       "\n",
       "    .dataframe tbody tr th {\n",
       "        vertical-align: top;\n",
       "    }\n",
       "\n",
       "    .dataframe thead th {\n",
       "        text-align: right;\n",
       "    }\n",
       "</style>\n",
       "<table border=\"1\" class=\"dataframe\">\n",
       "  <thead>\n",
       "    <tr style=\"text-align: right;\">\n",
       "      <th></th>\n",
       "      <th>acc_score</th>\n",
       "      <th>cv_score</th>\n",
       "    </tr>\n",
       "  </thead>\n",
       "  <tbody>\n",
       "    <tr>\n",
       "      <th>0</th>\n",
       "      <td>84.4</td>\n",
       "      <td>80.92</td>\n",
       "    </tr>\n",
       "  </tbody>\n",
       "</table>\n",
       "</div>"
      ],
      "text/plain": [
       "   acc_score  cv_score\n",
       "0       84.4     80.92"
      ]
     },
     "execution_count": 57,
     "metadata": {},
     "output_type": "execute_result"
    }
   ],
   "source": [
    "#Support Vector Machine\n",
    "from sklearn.svm import SVC\n",
    "SVC = SVC()\n",
    "\n",
    "#Model Training\n",
    "SVC.fit(X_dum, y)\n",
    "\n",
    "#Prediction and validation\n",
    "acc_score = round(SVC.score(X_dum, y) * 100, 2)\n",
    "\n",
    "\n",
    "#cross validation\n",
    "cv = cross_val_score(SVC,X_dum,y,cv=5)\n",
    "cv_mean = round(cv.mean() * 100, 2)\n",
    "\n",
    "pd.DataFrame({\"acc_score\": [acc_score], \"cv_score\": [cv_mean]})"
   ]
  },
  {
   "cell_type": "code",
   "execution_count": 58,
   "id": "weekly-syndrome",
   "metadata": {
    "execution": {
     "iopub.execute_input": "2021-06-01T23:14:27.199333Z",
     "iopub.status.busy": "2021-06-01T23:14:27.198655Z",
     "iopub.status.idle": "2021-06-01T23:14:27.370501Z",
     "shell.execute_reply": "2021-06-01T23:14:27.369895Z"
    },
    "papermill": {
     "duration": 0.273021,
     "end_time": "2021-06-01T23:14:27.370672",
     "exception": false,
     "start_time": "2021-06-01T23:14:27.097651",
     "status": "completed"
    },
    "tags": []
   },
   "outputs": [
    {
     "data": {
      "text/html": [
       "<div>\n",
       "<style scoped>\n",
       "    .dataframe tbody tr th:only-of-type {\n",
       "        vertical-align: middle;\n",
       "    }\n",
       "\n",
       "    .dataframe tbody tr th {\n",
       "        vertical-align: top;\n",
       "    }\n",
       "\n",
       "    .dataframe thead th {\n",
       "        text-align: right;\n",
       "    }\n",
       "</style>\n",
       "<table border=\"1\" class=\"dataframe\">\n",
       "  <thead>\n",
       "    <tr style=\"text-align: right;\">\n",
       "      <th></th>\n",
       "      <th>acc_score</th>\n",
       "      <th>cv_score</th>\n",
       "    </tr>\n",
       "  </thead>\n",
       "  <tbody>\n",
       "    <tr>\n",
       "      <th>0</th>\n",
       "      <td>91.25</td>\n",
       "      <td>78.79</td>\n",
       "    </tr>\n",
       "  </tbody>\n",
       "</table>\n",
       "</div>"
      ],
      "text/plain": [
       "   acc_score  cv_score\n",
       "0      91.25     78.79"
      ]
     },
     "execution_count": 58,
     "metadata": {},
     "output_type": "execute_result"
    }
   ],
   "source": [
    "#Descision Tree \n",
    "from sklearn import tree\n",
    "dt = tree.DecisionTreeClassifier()\n",
    "\n",
    "#Model Training\n",
    "dt.fit(X_dum, y)\n",
    "\n",
    "#Prediction and validation\n",
    "acc_score = round(dt.score(X_dum, y) * 100, 2)\n",
    "\n",
    "\n",
    "#cross validation\n",
    "cv = cross_val_score(dt,X_dum,y,cv=5)\n",
    "cv_mean = round(cv.mean() * 100, 2)\n",
    "\n",
    "pd.DataFrame({\"acc_score\": [acc_score], \"cv_score\": [cv_mean]})"
   ]
  },
  {
   "cell_type": "code",
   "execution_count": 59,
   "id": "statewide-listening",
   "metadata": {
    "execution": {
     "iopub.execute_input": "2021-06-01T23:14:27.575466Z",
     "iopub.status.busy": "2021-06-01T23:14:27.574525Z",
     "iopub.status.idle": "2021-06-01T23:14:29.098940Z",
     "shell.execute_reply": "2021-06-01T23:14:29.099409Z"
    },
    "papermill": {
     "duration": 1.628838,
     "end_time": "2021-06-01T23:14:29.099613",
     "exception": false,
     "start_time": "2021-06-01T23:14:27.470775",
     "status": "completed"
    },
    "tags": []
   },
   "outputs": [
    {
     "data": {
      "text/html": [
       "<div>\n",
       "<style scoped>\n",
       "    .dataframe tbody tr th:only-of-type {\n",
       "        vertical-align: middle;\n",
       "    }\n",
       "\n",
       "    .dataframe tbody tr th {\n",
       "        vertical-align: top;\n",
       "    }\n",
       "\n",
       "    .dataframe thead th {\n",
       "        text-align: right;\n",
       "    }\n",
       "</style>\n",
       "<table border=\"1\" class=\"dataframe\">\n",
       "  <thead>\n",
       "    <tr style=\"text-align: right;\">\n",
       "      <th></th>\n",
       "      <th>acc_score</th>\n",
       "      <th>cv_score</th>\n",
       "    </tr>\n",
       "  </thead>\n",
       "  <tbody>\n",
       "    <tr>\n",
       "      <th>0</th>\n",
       "      <td>91.25</td>\n",
       "      <td>81.14</td>\n",
       "    </tr>\n",
       "  </tbody>\n",
       "</table>\n",
       "</div>"
      ],
      "text/plain": [
       "   acc_score  cv_score\n",
       "0      91.25     81.14"
      ]
     },
     "execution_count": 59,
     "metadata": {},
     "output_type": "execute_result"
    }
   ],
   "source": [
    "#Random Forest\n",
    "from sklearn.ensemble import RandomForestClassifier\n",
    "rs = RandomForestClassifier()\n",
    "\n",
    "#Model Training\n",
    "rs.fit(X_dum, y)\n",
    "\n",
    "#Prediction and validation\n",
    "acc_score = round(rs.score(X_dum, y) * 100, 2)\n",
    "\n",
    "#cross validation\n",
    "cv = cross_val_score(rs,X_dum,y,cv=5)\n",
    "cv_mean = round(cv.mean() * 100, 2)\n",
    "\n",
    "pd.DataFrame({\"acc_score\": [acc_score], \"cv_score\": [cv_mean]})"
   ]
  },
  {
   "cell_type": "code",
   "execution_count": 60,
   "id": "funny-library",
   "metadata": {
    "execution": {
     "iopub.execute_input": "2021-06-01T23:14:29.309332Z",
     "iopub.status.busy": "2021-06-01T23:14:29.308280Z",
     "iopub.status.idle": "2021-06-01T23:14:30.106628Z",
     "shell.execute_reply": "2021-06-01T23:14:30.106015Z"
    },
    "papermill": {
     "duration": 0.907616,
     "end_time": "2021-06-01T23:14:30.106785",
     "exception": false,
     "start_time": "2021-06-01T23:14:29.199169",
     "status": "completed"
    },
    "tags": []
   },
   "outputs": [
    {
     "data": {
      "text/html": [
       "<div>\n",
       "<style scoped>\n",
       "    .dataframe tbody tr th:only-of-type {\n",
       "        vertical-align: middle;\n",
       "    }\n",
       "\n",
       "    .dataframe tbody tr th {\n",
       "        vertical-align: top;\n",
       "    }\n",
       "\n",
       "    .dataframe thead th {\n",
       "        text-align: right;\n",
       "    }\n",
       "</style>\n",
       "<table border=\"1\" class=\"dataframe\">\n",
       "  <thead>\n",
       "    <tr style=\"text-align: right;\">\n",
       "      <th></th>\n",
       "      <th>acc_score</th>\n",
       "      <th>cv_score</th>\n",
       "    </tr>\n",
       "  </thead>\n",
       "  <tbody>\n",
       "    <tr>\n",
       "      <th>0</th>\n",
       "      <td>85.97</td>\n",
       "      <td>80.36</td>\n",
       "    </tr>\n",
       "  </tbody>\n",
       "</table>\n",
       "</div>"
      ],
      "text/plain": [
       "   acc_score  cv_score\n",
       "0      85.97     80.36"
      ]
     },
     "execution_count": 60,
     "metadata": {},
     "output_type": "execute_result"
    }
   ],
   "source": [
    "#XGB\n",
    "from sklearn.ensemble import GradientBoostingClassifier\n",
    "xgb = GradientBoostingClassifier()\n",
    "\n",
    "#Model Training\n",
    "xgb.fit(X_dum, y)\n",
    "\n",
    "#Prediction and validation\n",
    "acc_score = round(xgb.score(X_dum, y) * 100, 2)\n",
    "\n",
    "\n",
    "#cross validation\n",
    "cv = cross_val_score(xgb,X_dum,y,cv=5)\n",
    "cv_mean = round(cv.mean() * 100, 2)\n",
    "\n",
    "pd.DataFrame({\"acc_score\": [acc_score], \"cv_score\": [cv_mean]})"
   ]
  },
  {
   "cell_type": "markdown",
   "id": "atlantic-disco",
   "metadata": {
    "papermill": {
     "duration": 0.094841,
     "end_time": "2021-06-01T23:14:30.308521",
     "exception": false,
     "start_time": "2021-06-01T23:14:30.213680",
     "status": "completed"
    },
    "tags": []
   },
   "source": [
    "### Hyper Parameter Tunning\n",
    "Lets now do some hyper parameter tunning to improve model results."
   ]
  },
  {
   "cell_type": "markdown",
   "id": "prerequisite-albania",
   "metadata": {
    "papermill": {
     "duration": 0.097535,
     "end_time": "2021-06-01T23:14:30.503057",
     "exception": false,
     "start_time": "2021-06-01T23:14:30.405522",
     "status": "completed"
    },
    "tags": []
   },
   "source": [
    "#### 1. Logestic Regression"
   ]
  },
  {
   "cell_type": "code",
   "execution_count": 61,
   "id": "subject-record",
   "metadata": {
    "execution": {
     "iopub.execute_input": "2021-06-01T23:14:30.709517Z",
     "iopub.status.busy": "2021-06-01T23:14:30.708714Z",
     "iopub.status.idle": "2021-06-01T23:14:38.883525Z",
     "shell.execute_reply": "2021-06-01T23:14:38.884244Z"
    },
    "papermill": {
     "duration": 8.279513,
     "end_time": "2021-06-01T23:14:38.884502",
     "exception": false,
     "start_time": "2021-06-01T23:14:30.604989",
     "status": "completed"
    },
    "tags": []
   },
   "outputs": [
    {
     "name": "stdout",
     "output_type": "stream",
     "text": [
      "Fitting 5 folds for each of 100 candidates, totalling 500 fits\n",
      "Tuned Decision Tree Parameters: {'C': 2.559547922699533, 'max_iter': 2000, 'penalty': 'l1', 'solver': 'liblinear'}\n",
      "Best score is 81.59500345238844\n"
     ]
    }
   ],
   "source": [
    "# import GridSearchCV\n",
    "from sklearn.model_selection import GridSearchCV\n",
    "log_reg = LogisticRegression(max_iter = 2000)\n",
    "\n",
    "# param_grid\n",
    "param_grid = {'max_iter' : [2000],\n",
    "              'penalty' : ['l1', 'l2'],\n",
    "              'C' : np.logspace(-4, 4, 50),\n",
    "              'solver' : ['liblinear']}\n",
    "\n",
    "# grid_model: Logestic Regression\n",
    "lr_tuned = GridSearchCV(log_reg, param_grid = param_grid, cv = 5, verbose = True, n_jobs = -1)\n",
    "best_lr = lr_tuned.fit(X_dum, y)\n",
    "\n",
    "# Print the tuned parameters and score\n",
    "print(\"Tuned Decision Tree Parameters: {}\".format(lr_tuned.best_params_))\n",
    "print(\"Best score is {}\".format(lr_tuned.best_score_ * 100))"
   ]
  },
  {
   "cell_type": "markdown",
   "id": "wanted-webcam",
   "metadata": {
    "papermill": {
     "duration": 0.095436,
     "end_time": "2021-06-01T23:14:39.074492",
     "exception": false,
     "start_time": "2021-06-01T23:14:38.979056",
     "status": "completed"
    },
    "tags": []
   },
   "source": [
    "#### 2. Random Forest Classifier"
   ]
  },
  {
   "cell_type": "code",
   "execution_count": 62,
   "id": "peripheral-darkness",
   "metadata": {
    "execution": {
     "iopub.execute_input": "2021-06-01T23:14:39.274809Z",
     "iopub.status.busy": "2021-06-01T23:14:39.274114Z",
     "iopub.status.idle": "2021-06-01T23:24:58.765625Z",
     "shell.execute_reply": "2021-06-01T23:24:58.766155Z"
    },
    "papermill": {
     "duration": 619.597053,
     "end_time": "2021-06-01T23:24:58.766346",
     "exception": false,
     "start_time": "2021-06-01T23:14:39.169293",
     "status": "completed"
    },
    "tags": []
   },
   "outputs": [
    {
     "name": "stdout",
     "output_type": "stream",
     "text": [
      "Fitting 5 folds for each of 288 candidates, totalling 1440 fits\n",
      "Tuned Decision Tree Parameters: {'bootstrap': True, 'criterion': 'entropy', 'max_depth': 20, 'max_features': 10, 'min_samples_leaf': 2, 'min_samples_split': 3, 'n_estimators': 500}\n",
      "Best score is 81.47950536689474\n"
     ]
    }
   ],
   "source": [
    "rs = RandomForestClassifier()\n",
    "\n",
    "# param_grid\n",
    "param_grid =  {'n_estimators': [400,450,500,550],\n",
    "               'criterion':['gini','entropy'],\n",
    "                                  'bootstrap': [True],\n",
    "                                  'max_depth': [15, 20, 25],\n",
    "                                  'max_features': ['auto','sqrt', 10],\n",
    "                                  'min_samples_leaf': [2,3],\n",
    "                                  'min_samples_split': [2,3]}\n",
    "\n",
    "# grid_model: Logestic Regression\n",
    "rs_tuned = GridSearchCV(rs, param_grid = param_grid, cv = 5, verbose = True, n_jobs = -1)\n",
    "best_rs = rs_tuned.fit(X_dum, y)\n",
    "\n",
    "\n",
    "# Print the tuned parameters and score\n",
    "print(\"Tuned Decision Tree Parameters: {}\".format(rs_tuned.best_params_))\n",
    "print(\"Best score is {}\".format(rs_tuned.best_score_ * 100))"
   ]
  },
  {
   "cell_type": "code",
   "execution_count": 63,
   "id": "working-ivory",
   "metadata": {
    "execution": {
     "iopub.execute_input": "2021-06-01T23:24:58.960035Z",
     "iopub.status.busy": "2021-06-01T23:24:58.959365Z",
     "iopub.status.idle": "2021-06-01T23:24:58.979878Z",
     "shell.execute_reply": "2021-06-01T23:24:58.980928Z"
    },
    "papermill": {
     "duration": 0.119734,
     "end_time": "2021-06-01T23:24:58.981203",
     "exception": false,
     "start_time": "2021-06-01T23:24:58.861469",
     "status": "completed"
    },
    "tags": []
   },
   "outputs": [
    {
     "data": {
      "text/html": [
       "<div>\n",
       "<style scoped>\n",
       "    .dataframe tbody tr th:only-of-type {\n",
       "        vertical-align: middle;\n",
       "    }\n",
       "\n",
       "    .dataframe tbody tr th {\n",
       "        vertical-align: top;\n",
       "    }\n",
       "\n",
       "    .dataframe thead th {\n",
       "        text-align: right;\n",
       "    }\n",
       "</style>\n",
       "<table border=\"1\" class=\"dataframe\">\n",
       "  <thead>\n",
       "    <tr style=\"text-align: right;\">\n",
       "      <th></th>\n",
       "      <th>PassengerId</th>\n",
       "      <th>Survived</th>\n",
       "    </tr>\n",
       "  </thead>\n",
       "  <tbody>\n",
       "    <tr>\n",
       "      <th>0</th>\n",
       "      <td>892</td>\n",
       "      <td>0</td>\n",
       "    </tr>\n",
       "    <tr>\n",
       "      <th>1</th>\n",
       "      <td>893</td>\n",
       "      <td>0</td>\n",
       "    </tr>\n",
       "    <tr>\n",
       "      <th>2</th>\n",
       "      <td>894</td>\n",
       "      <td>0</td>\n",
       "    </tr>\n",
       "    <tr>\n",
       "      <th>3</th>\n",
       "      <td>895</td>\n",
       "      <td>0</td>\n",
       "    </tr>\n",
       "    <tr>\n",
       "      <th>4</th>\n",
       "      <td>896</td>\n",
       "      <td>1</td>\n",
       "    </tr>\n",
       "  </tbody>\n",
       "</table>\n",
       "</div>"
      ],
      "text/plain": [
       "  PassengerId  Survived\n",
       "0         892         0\n",
       "1         893         0\n",
       "2         894         0\n",
       "3         895         0\n",
       "4         896         1"
      ]
     },
     "execution_count": 63,
     "metadata": {},
     "output_type": "execute_result"
    }
   ],
   "source": [
    "#Prediction and submission\n",
    "y_predict = best_lr.predict(df_test_dum)\n",
    "\n",
    "#Create a  DataFrame with the passengers ids and our prediction regarding whether they survived or not\n",
    "submission = pd.DataFrame({'PassengerId':df_test['PassengerId'],'Survived':y_predict})\n",
    "\n",
    "#Visualize the first 5 rows\n",
    "submission.head()"
   ]
  },
  {
   "cell_type": "code",
   "execution_count": 64,
   "id": "intimate-favorite",
   "metadata": {
    "execution": {
     "iopub.execute_input": "2021-06-01T23:24:59.230067Z",
     "iopub.status.busy": "2021-06-01T23:24:59.229106Z",
     "iopub.status.idle": "2021-06-01T23:24:59.237835Z",
     "shell.execute_reply": "2021-06-01T23:24:59.238462Z"
    },
    "papermill": {
     "duration": 0.110863,
     "end_time": "2021-06-01T23:24:59.238670",
     "exception": false,
     "start_time": "2021-06-01T23:24:59.127807",
     "status": "completed"
    },
    "tags": []
   },
   "outputs": [
    {
     "name": "stdout",
     "output_type": "stream",
     "text": [
      "Saved file: Titanic_Predictions_2.csv\n"
     ]
    }
   ],
   "source": [
    "#Submission\n",
    "filename = 'Titanic_Predictions_2.csv'\n",
    "\n",
    "submission.to_csv(filename,index=False)\n",
    "\n",
    "print('Saved file: ' + filename)"
   ]
  }
 ],
 "metadata": {
  "kernelspec": {
   "display_name": "Python 3",
   "language": "python",
   "name": "python3"
  },
  "language_info": {
   "codemirror_mode": {
    "name": "ipython",
    "version": 3
   },
   "file_extension": ".py",
   "mimetype": "text/x-python",
   "name": "python",
   "nbconvert_exporter": "python",
   "pygments_lexer": "ipython3",
   "version": "3.7.9"
  },
  "papermill": {
   "default_parameters": {},
   "duration": 680.981905,
   "end_time": "2021-06-01T23:25:00.347859",
   "environment_variables": {},
   "exception": null,
   "input_path": "__notebook__.ipynb",
   "output_path": "__notebook__.ipynb",
   "parameters": {},
   "start_time": "2021-06-01T23:13:39.365954",
   "version": "2.3.2"
  }
 },
 "nbformat": 4,
 "nbformat_minor": 5
}
